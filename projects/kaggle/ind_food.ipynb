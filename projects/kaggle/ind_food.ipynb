{
 "metadata": {
  "language_info": {
   "codemirror_mode": {
    "name": "ipython",
    "version": 3
   },
   "file_extension": ".py",
   "mimetype": "text/x-python",
   "name": "python",
   "nbconvert_exporter": "python",
   "pygments_lexer": "ipython3",
   "version": "3.9.5"
  },
  "orig_nbformat": 4,
  "kernelspec": {
   "name": "python3",
   "display_name": "Python 3.9.5 64-bit ('Machine-Learning': venv)"
  },
  "interpreter": {
   "hash": "be586389b9b53da8b3339665700485502f47901d08bec1fe049525e0a8d6c925"
  }
 },
 "nbformat": 4,
 "nbformat_minor": 2,
 "cells": [
  {
   "cell_type": "code",
   "execution_count": 1,
   "metadata": {},
   "outputs": [],
   "source": [
    "import numpy as np\n",
    "import pandas as pd\n",
    "import seaborn as sns\n",
    "%matplotlib inline\n",
    "import matplotlib.pyplot as plt\n",
    "\n",
    "from sklearn.preprocessing import LabelEncoder\n",
    "from sklearn.metrics import classification_report\n",
    "from pandas_profiling import ProfileReport\n",
    "from sklearn.model_selection import train_test_split\n",
    "from sklearn.neighbors import KNeighborsClassifier, KNeighborsRegressor\n",
    "from sklearn.linear_model import LinearRegression, LogisticRegression, Ridge, Lasso\n",
    "from sklearn.tree import DecisionTreeClassifier, DecisionTreeRegressor\n",
    "from sklearn.ensemble import RandomForestClassifier, GradientBoostingClassifier, RandomForestRegressor,     GradientBoostingRegressor, ExtraTreesRegressor\n",
    "from sklearn.svm import LinearSVC, SVC\n",
    "from sklearn.neural_network import MLPClassifier\n",
    "from sklearn.metrics import accuracy_score, r2_score, classification_report\n",
    "from sklearn.pipeline import Pipeline\n",
    "from sklearn.impute import SimpleImputer\n",
    "from sklearn.preprocessing import OneHotEncoder"
   ]
  },
  {
   "cell_type": "code",
   "execution_count": 2,
   "metadata": {},
   "outputs": [],
   "source": [
    "recipe_filepath = \"C:\\\\Users\\\\Dhruv\\\\Machine-Learning\\\\code\\\\files\\\\project_files\\\\IndianFoodDatasetCSV.csv\"\n",
    "\n",
    "data = pd.read_csv(recipe_filepath)"
   ]
  },
  {
   "cell_type": "code",
   "execution_count": 3,
   "metadata": {},
   "outputs": [],
   "source": [
    "data.drop(\"Instructions\", inplace=True, axis=1)\n",
    "data.drop(\"Ingredients\", inplace=True, axis=1)\n",
    "data.drop(\"RecipeName\", inplace=True, axis=1)\n",
    "data.drop(\"Srno\", inplace=True, axis=1)"
   ]
  },
  {
   "cell_type": "code",
   "execution_count": 4,
   "metadata": {},
   "outputs": [
    {
     "output_type": "execute_result",
     "data": {
      "text/plain": [
       "                                   TranslatedRecipeName  \\\n",
       "6866                        Goan Mushroom Xacuti Recipe   \n",
       "6867        Sweet Potato & Methi Stuffed Paratha Recipe   \n",
       "6868      Ullikadala Pulusu Recipe | Spring Onion Curry   \n",
       "6869  Kashmiri Style Kokur Yakhni Recipe-Chicken Coo...   \n",
       "6870                                 Navrang Dal Recipe   \n",
       "\n",
       "                                  TranslatedIngredients  PrepTimeInMins  \\\n",
       "6866  20 बटन मशरुम,2 प्याज - काट ले,1 टमाटर - बारीक ...              15   \n",
       "6867  1 बड़ा चम्मच तेल,1 कप गेहूं का आटा,नमक - स्वाद ...              30   \n",
       "6868  150 grams Spring Onion (Bulb & Greens) - chopp...               5   \n",
       "6869  1 kg Chicken - medium pieces,1/2 cup Mustard o...              30   \n",
       "6870  2 बड़े चम्मच हरी मूंग दाल,2 बड़े चम्मच सफ़ेद उरद ...              10   \n",
       "\n",
       "      CookTimeInMins  TotalTimeInMins  Servings               Cuisine  \\\n",
       "6866              45               60         4          Goan Recipes   \n",
       "6867              60               90         4  North Indian Recipes   \n",
       "6868              10               15         2                Andhra   \n",
       "6869              45               75         4              Kashmiri   \n",
       "6870              30               40         4  North Indian Recipes   \n",
       "\n",
       "                      Course                     Diet  \\\n",
       "6866                   Lunch               Vegetarian   \n",
       "6867  North Indian Breakfast        Diabetic Friendly   \n",
       "6868               Side Dish               Vegetarian   \n",
       "6869                   Lunch           Non Vegeterian   \n",
       "6870                   Lunch  High Protein Vegetarian   \n",
       "\n",
       "                                 TranslatedInstructions  \\\n",
       "6866  गोअन मशरुम जकुटी रेसिपी बनाने के लिए सबसे पहले...   \n",
       "6867  शकरकंदी और मेथी का पराठा रेसिपी बनाने के लिए स...   \n",
       "6868  To begin making Ullikadala Pulusu Recipe | Spr...   \n",
       "6869  To begin making the Kashmiri Kokur Yakhni reci...   \n",
       "6870  नवरंग दाल रेसिपी  बनाने के लिए सबसे पहले सारी ...   \n",
       "\n",
       "                                                    URL  \n",
       "6866  https://www.archanaskitchen.com/goan-mushroom-...  \n",
       "6867  https://www.archanaskitchen.com/sweet-potato-m...  \n",
       "6868  https://www.archanaskitchen.com/ullikadala-pul...  \n",
       "6869  http://www.archanaskitchen.com/kashmiri-kokur-...  \n",
       "6870  https://www.archanaskitchen.com/navrang-dal-re...  "
      ],
      "text/html": "<div>\n<style scoped>\n    .dataframe tbody tr th:only-of-type {\n        vertical-align: middle;\n    }\n\n    .dataframe tbody tr th {\n        vertical-align: top;\n    }\n\n    .dataframe thead th {\n        text-align: right;\n    }\n</style>\n<table border=\"1\" class=\"dataframe\">\n  <thead>\n    <tr style=\"text-align: right;\">\n      <th></th>\n      <th>TranslatedRecipeName</th>\n      <th>TranslatedIngredients</th>\n      <th>PrepTimeInMins</th>\n      <th>CookTimeInMins</th>\n      <th>TotalTimeInMins</th>\n      <th>Servings</th>\n      <th>Cuisine</th>\n      <th>Course</th>\n      <th>Diet</th>\n      <th>TranslatedInstructions</th>\n      <th>URL</th>\n    </tr>\n  </thead>\n  <tbody>\n    <tr>\n      <th>6866</th>\n      <td>Goan Mushroom Xacuti Recipe</td>\n      <td>20 बटन मशरुम,2 प्याज - काट ले,1 टमाटर - बारीक ...</td>\n      <td>15</td>\n      <td>45</td>\n      <td>60</td>\n      <td>4</td>\n      <td>Goan Recipes</td>\n      <td>Lunch</td>\n      <td>Vegetarian</td>\n      <td>गोअन मशरुम जकुटी रेसिपी बनाने के लिए सबसे पहले...</td>\n      <td>https://www.archanaskitchen.com/goan-mushroom-...</td>\n    </tr>\n    <tr>\n      <th>6867</th>\n      <td>Sweet Potato &amp; Methi Stuffed Paratha Recipe</td>\n      <td>1 बड़ा चम्मच तेल,1 कप गेहूं का आटा,नमक - स्वाद ...</td>\n      <td>30</td>\n      <td>60</td>\n      <td>90</td>\n      <td>4</td>\n      <td>North Indian Recipes</td>\n      <td>North Indian Breakfast</td>\n      <td>Diabetic Friendly</td>\n      <td>शकरकंदी और मेथी का पराठा रेसिपी बनाने के लिए स...</td>\n      <td>https://www.archanaskitchen.com/sweet-potato-m...</td>\n    </tr>\n    <tr>\n      <th>6868</th>\n      <td>Ullikadala Pulusu Recipe | Spring Onion Curry</td>\n      <td>150 grams Spring Onion (Bulb &amp; Greens) - chopp...</td>\n      <td>5</td>\n      <td>10</td>\n      <td>15</td>\n      <td>2</td>\n      <td>Andhra</td>\n      <td>Side Dish</td>\n      <td>Vegetarian</td>\n      <td>To begin making Ullikadala Pulusu Recipe | Spr...</td>\n      <td>https://www.archanaskitchen.com/ullikadala-pul...</td>\n    </tr>\n    <tr>\n      <th>6869</th>\n      <td>Kashmiri Style Kokur Yakhni Recipe-Chicken Coo...</td>\n      <td>1 kg Chicken - medium pieces,1/2 cup Mustard o...</td>\n      <td>30</td>\n      <td>45</td>\n      <td>75</td>\n      <td>4</td>\n      <td>Kashmiri</td>\n      <td>Lunch</td>\n      <td>Non Vegeterian</td>\n      <td>To begin making the Kashmiri Kokur Yakhni reci...</td>\n      <td>http://www.archanaskitchen.com/kashmiri-kokur-...</td>\n    </tr>\n    <tr>\n      <th>6870</th>\n      <td>Navrang Dal Recipe</td>\n      <td>2 बड़े चम्मच हरी मूंग दाल,2 बड़े चम्मच सफ़ेद उरद ...</td>\n      <td>10</td>\n      <td>30</td>\n      <td>40</td>\n      <td>4</td>\n      <td>North Indian Recipes</td>\n      <td>Lunch</td>\n      <td>High Protein Vegetarian</td>\n      <td>नवरंग दाल रेसिपी  बनाने के लिए सबसे पहले सारी ...</td>\n      <td>https://www.archanaskitchen.com/navrang-dal-re...</td>\n    </tr>\n  </tbody>\n</table>\n</div>"
     },
     "metadata": {},
     "execution_count": 4
    }
   ],
   "source": [
    "data.tail()"
   ]
  },
  {
   "cell_type": "code",
   "execution_count": 5,
   "metadata": {},
   "outputs": [
    {
     "output_type": "stream",
     "name": "stdout",
     "text": [
      "<class 'pandas.core.frame.DataFrame'>\nRangeIndex: 6871 entries, 0 to 6870\nData columns (total 11 columns):\n #   Column                  Non-Null Count  Dtype \n---  ------                  --------------  ----- \n 0   TranslatedRecipeName    6871 non-null   object\n 1   TranslatedIngredients   6865 non-null   object\n 2   PrepTimeInMins          6871 non-null   int64 \n 3   CookTimeInMins          6871 non-null   int64 \n 4   TotalTimeInMins         6871 non-null   int64 \n 5   Servings                6871 non-null   int64 \n 6   Cuisine                 6871 non-null   object\n 7   Course                  6871 non-null   object\n 8   Diet                    6871 non-null   object\n 9   TranslatedInstructions  6871 non-null   object\n 10  URL                     6871 non-null   object\ndtypes: int64(4), object(7)\nmemory usage: 590.6+ KB\n"
     ]
    }
   ],
   "source": [
    "data.info()"
   ]
  },
  {
   "cell_type": "code",
   "execution_count": 6,
   "metadata": {},
   "outputs": [
    {
     "output_type": "execute_result",
     "data": {
      "text/plain": [
       "                                   TranslatedRecipeName  \\\n",
       "6866                        Goan Mushroom Xacuti Recipe   \n",
       "6867        Sweet Potato & Methi Stuffed Paratha Recipe   \n",
       "6868      Ullikadala Pulusu Recipe | Spring Onion Curry   \n",
       "6869  Kashmiri Style Kokur Yakhni Recipe-Chicken Coo...   \n",
       "6870                                 Navrang Dal Recipe   \n",
       "\n",
       "                                  TranslatedIngredients  PrepTimeInMins  \\\n",
       "6866  20 बटन मशरुम,2 प्याज - काट ले,1 टमाटर - बारीक ...              15   \n",
       "6867  1 बड़ा चम्मच तेल,1 कप गेहूं का आटा,नमक - स्वाद ...              30   \n",
       "6868  150 grams Spring Onion (Bulb & Greens) - chopp...               5   \n",
       "6869  1 kg Chicken - medium pieces,1/2 cup Mustard o...              30   \n",
       "6870  2 बड़े चम्मच हरी मूंग दाल,2 बड़े चम्मच सफ़ेद उरद ...              10   \n",
       "\n",
       "      CookTimeInMins  TotalTimeInMins  Servings               Cuisine  \\\n",
       "6866              45               60         4          Goan Recipes   \n",
       "6867              60               90         4  North Indian Recipes   \n",
       "6868              10               15         2                Andhra   \n",
       "6869              45               75         4              Kashmiri   \n",
       "6870              30               40         4  North Indian Recipes   \n",
       "\n",
       "                      Course                     Diet  \\\n",
       "6866                   Lunch               Vegetarian   \n",
       "6867  North Indian Breakfast        Diabetic Friendly   \n",
       "6868               Side Dish               Vegetarian   \n",
       "6869                   Lunch           Non Vegeterian   \n",
       "6870                   Lunch  High Protein Vegetarian   \n",
       "\n",
       "                                 TranslatedInstructions  \\\n",
       "6866  गोअन मशरुम जकुटी रेसिपी बनाने के लिए सबसे पहले...   \n",
       "6867  शकरकंदी और मेथी का पराठा रेसिपी बनाने के लिए स...   \n",
       "6868  To begin making Ullikadala Pulusu Recipe | Spr...   \n",
       "6869  To begin making the Kashmiri Kokur Yakhni reci...   \n",
       "6870  नवरंग दाल रेसिपी  बनाने के लिए सबसे पहले सारी ...   \n",
       "\n",
       "                                                    URL  \n",
       "6866  https://www.archanaskitchen.com/goan-mushroom-...  \n",
       "6867  https://www.archanaskitchen.com/sweet-potato-m...  \n",
       "6868  https://www.archanaskitchen.com/ullikadala-pul...  \n",
       "6869  http://www.archanaskitchen.com/kashmiri-kokur-...  \n",
       "6870  https://www.archanaskitchen.com/navrang-dal-re...  "
      ],
      "text/html": "<div>\n<style scoped>\n    .dataframe tbody tr th:only-of-type {\n        vertical-align: middle;\n    }\n\n    .dataframe tbody tr th {\n        vertical-align: top;\n    }\n\n    .dataframe thead th {\n        text-align: right;\n    }\n</style>\n<table border=\"1\" class=\"dataframe\">\n  <thead>\n    <tr style=\"text-align: right;\">\n      <th></th>\n      <th>TranslatedRecipeName</th>\n      <th>TranslatedIngredients</th>\n      <th>PrepTimeInMins</th>\n      <th>CookTimeInMins</th>\n      <th>TotalTimeInMins</th>\n      <th>Servings</th>\n      <th>Cuisine</th>\n      <th>Course</th>\n      <th>Diet</th>\n      <th>TranslatedInstructions</th>\n      <th>URL</th>\n    </tr>\n  </thead>\n  <tbody>\n    <tr>\n      <th>6866</th>\n      <td>Goan Mushroom Xacuti Recipe</td>\n      <td>20 बटन मशरुम,2 प्याज - काट ले,1 टमाटर - बारीक ...</td>\n      <td>15</td>\n      <td>45</td>\n      <td>60</td>\n      <td>4</td>\n      <td>Goan Recipes</td>\n      <td>Lunch</td>\n      <td>Vegetarian</td>\n      <td>गोअन मशरुम जकुटी रेसिपी बनाने के लिए सबसे पहले...</td>\n      <td>https://www.archanaskitchen.com/goan-mushroom-...</td>\n    </tr>\n    <tr>\n      <th>6867</th>\n      <td>Sweet Potato &amp; Methi Stuffed Paratha Recipe</td>\n      <td>1 बड़ा चम्मच तेल,1 कप गेहूं का आटा,नमक - स्वाद ...</td>\n      <td>30</td>\n      <td>60</td>\n      <td>90</td>\n      <td>4</td>\n      <td>North Indian Recipes</td>\n      <td>North Indian Breakfast</td>\n      <td>Diabetic Friendly</td>\n      <td>शकरकंदी और मेथी का पराठा रेसिपी बनाने के लिए स...</td>\n      <td>https://www.archanaskitchen.com/sweet-potato-m...</td>\n    </tr>\n    <tr>\n      <th>6868</th>\n      <td>Ullikadala Pulusu Recipe | Spring Onion Curry</td>\n      <td>150 grams Spring Onion (Bulb &amp; Greens) - chopp...</td>\n      <td>5</td>\n      <td>10</td>\n      <td>15</td>\n      <td>2</td>\n      <td>Andhra</td>\n      <td>Side Dish</td>\n      <td>Vegetarian</td>\n      <td>To begin making Ullikadala Pulusu Recipe | Spr...</td>\n      <td>https://www.archanaskitchen.com/ullikadala-pul...</td>\n    </tr>\n    <tr>\n      <th>6869</th>\n      <td>Kashmiri Style Kokur Yakhni Recipe-Chicken Coo...</td>\n      <td>1 kg Chicken - medium pieces,1/2 cup Mustard o...</td>\n      <td>30</td>\n      <td>45</td>\n      <td>75</td>\n      <td>4</td>\n      <td>Kashmiri</td>\n      <td>Lunch</td>\n      <td>Non Vegeterian</td>\n      <td>To begin making the Kashmiri Kokur Yakhni reci...</td>\n      <td>http://www.archanaskitchen.com/kashmiri-kokur-...</td>\n    </tr>\n    <tr>\n      <th>6870</th>\n      <td>Navrang Dal Recipe</td>\n      <td>2 बड़े चम्मच हरी मूंग दाल,2 बड़े चम्मच सफ़ेद उरद ...</td>\n      <td>10</td>\n      <td>30</td>\n      <td>40</td>\n      <td>4</td>\n      <td>North Indian Recipes</td>\n      <td>Lunch</td>\n      <td>High Protein Vegetarian</td>\n      <td>नवरंग दाल रेसिपी  बनाने के लिए सबसे पहले सारी ...</td>\n      <td>https://www.archanaskitchen.com/navrang-dal-re...</td>\n    </tr>\n  </tbody>\n</table>\n</div>"
     },
     "metadata": {},
     "execution_count": 6
    }
   ],
   "source": [
    "data.tail()"
   ]
  },
  {
   "cell_type": "code",
   "execution_count": 7,
   "metadata": {},
   "outputs": [],
   "source": [
    "data = data.rename(columns={\"TranslatedRecipeName\":\"RecipeName\", \"TranslatedIngredients\":\"Ingredients\",    \"TranslatedInstructions\":\"Instructions\"})"
   ]
  },
  {
   "cell_type": "code",
   "execution_count": 8,
   "metadata": {},
   "outputs": [],
   "source": [
    "data = data[data.Diet != \"Non Vegeterian\"]\n",
    "data = data[data.Diet != \"High Protein Non Vegetarian\"]\n",
    "data = data[data.Diet != \"Eggetarian\"]"
   ]
  },
  {
   "cell_type": "code",
   "execution_count": 9,
   "metadata": {},
   "outputs": [],
   "source": [
    "data_vegi = data[data.Diet == \"Vegeterian\"]\n",
    "data_vegi = data[data.Diet == \"High Protein Vegetarian\"]"
   ]
  },
  {
   "cell_type": "code",
   "execution_count": 10,
   "metadata": {},
   "outputs": [],
   "source": [
    "data_jain = data[data.Diet == \"No Onion No Garlic (Sattvic)\"]"
   ]
  },
  {
   "cell_type": "code",
   "execution_count": 11,
   "metadata": {},
   "outputs": [],
   "source": [
    "data_veg_glu = data[data.Diet != \"Vegan\"]\n",
    "data_veg_glu = data[data.Diet != \"Gluten Free\"]"
   ]
  },
  {
   "cell_type": "code",
   "execution_count": 14,
   "metadata": {},
   "outputs": [],
   "source": [
    "filepath = \"C:\\\\Users\\\\Dhruv\\\\Machine-Learning\\\\code\\\\files\\\\exported_files\\\\\"\n",
    "data_vegi.to_excel(filepath + 'vegitarian_rec.xlsx', index=False)\n",
    "data_jain.to_excel(filepath + 'jain_rec.xlsx', index=False)\n",
    "data_veg_glu.to_excel(filepath + 'veg_glu_rec.xlsx', index=False)"
   ]
  },
  {
   "cell_type": "code",
   "execution_count": null,
   "metadata": {},
   "outputs": [],
   "source": []
  }
 ]
}