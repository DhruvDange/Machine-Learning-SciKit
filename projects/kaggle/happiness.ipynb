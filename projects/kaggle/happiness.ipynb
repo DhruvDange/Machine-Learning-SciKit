{
 "metadata": {
  "language_info": {
   "codemirror_mode": {
    "name": "ipython",
    "version": 3
   },
   "file_extension": ".py",
   "mimetype": "text/x-python",
   "name": "python",
   "nbconvert_exporter": "python",
   "pygments_lexer": "ipython3",
   "version": "3.9.5"
  },
  "orig_nbformat": 2,
  "kernelspec": {
   "name": "python395jvsc74a57bd0be586389b9b53da8b3339665700485502f47901d08bec1fe049525e0a8d6c925",
   "display_name": "Python 3.9.5 64-bit ('Machine-Learning': venv)"
  }
 },
 "nbformat": 4,
 "nbformat_minor": 2,
 "cells": [
  {
   "cell_type": "code",
   "execution_count": 1,
   "metadata": {},
   "outputs": [],
   "source": [
    "import numpy as np\n",
    "import pandas as pd\n",
    "import seaborn as sns\n",
    "%matplotlib inline\n",
    "import matplotlib.pyplot as plt\n",
    "\n",
    "from sklearn.preprocessing import LabelEncoder\n",
    "from sklearn.metrics import classification_report\n",
    "from pandas_profiling import ProfileReport\n",
    "from sklearn.model_selection import train_test_split\n",
    "from sklearn.neighbors import KNeighborsClassifier, KNeighborsRegressor\n",
    "from sklearn.linear_model import LinearRegression, LogisticRegression, Ridge, Lasso\n",
    "from sklearn.tree import DecisionTreeClassifier, DecisionTreeRegressor\n",
    "from sklearn.ensemble import RandomForestClassifier, GradientBoostingClassifier, RandomForestRegressor,     GradientBoostingRegressor, ExtraTreesRegressor\n",
    "from sklearn.svm import LinearSVC, SVC\n",
    "from sklearn.metrics import accuracy_score, r2_score, classification_report\n",
    "from sklearn.pipeline import Pipeline\n",
    "from sklearn.impute import SimpleImputer\n",
    "from sklearn.preprocessing import OneHotEncoder"
   ]
  },
  {
   "cell_type": "code",
   "execution_count": 6,
   "metadata": {},
   "outputs": [],
   "source": [
    "data = pd.read_csv(\"C:\\\\Users\\\\Dhruv\\\\Machine-Learning\\\\code\\\\files\\\\project_files\\\\world-happiness-report-2021.csv\", index_col=\"Country name\")"
   ]
  },
  {
   "cell_type": "code",
   "execution_count": 7,
   "metadata": {},
   "outputs": [
    {
     "output_type": "execute_result",
     "data": {
      "text/plain": [
       "             Regional indicator  Ladder score  Standard error of ladder score  \\\n",
       "Country name                                                                    \n",
       "Finland          Western Europe         7.842                           0.032   \n",
       "Denmark          Western Europe         7.620                           0.035   \n",
       "Switzerland      Western Europe         7.571                           0.036   \n",
       "Iceland          Western Europe         7.554                           0.059   \n",
       "Netherlands      Western Europe         7.464                           0.027   \n",
       "\n",
       "              upperwhisker  lowerwhisker  Logged GDP per capita  \\\n",
       "Country name                                                      \n",
       "Finland              7.904         7.780                 10.775   \n",
       "Denmark              7.687         7.552                 10.933   \n",
       "Switzerland          7.643         7.500                 11.117   \n",
       "Iceland              7.670         7.438                 10.878   \n",
       "Netherlands          7.518         7.410                 10.932   \n",
       "\n",
       "              Social support  Healthy life expectancy  \\\n",
       "Country name                                            \n",
       "Finland                0.954                     72.0   \n",
       "Denmark                0.954                     72.7   \n",
       "Switzerland            0.942                     74.4   \n",
       "Iceland                0.983                     73.0   \n",
       "Netherlands            0.942                     72.4   \n",
       "\n",
       "              Freedom to make life choices  Generosity  \\\n",
       "Country name                                             \n",
       "Finland                              0.949      -0.098   \n",
       "Denmark                              0.946       0.030   \n",
       "Switzerland                          0.919       0.025   \n",
       "Iceland                              0.955       0.160   \n",
       "Netherlands                          0.913       0.175   \n",
       "\n",
       "              Perceptions of corruption  Ladder score in Dystopia  \\\n",
       "Country name                                                        \n",
       "Finland                           0.186                      2.43   \n",
       "Denmark                           0.179                      2.43   \n",
       "Switzerland                       0.292                      2.43   \n",
       "Iceland                           0.673                      2.43   \n",
       "Netherlands                       0.338                      2.43   \n",
       "\n",
       "              Explained by: Log GDP per capita  Explained by: Social support  \\\n",
       "Country name                                                                   \n",
       "Finland                                  1.446                         1.106   \n",
       "Denmark                                  1.502                         1.108   \n",
       "Switzerland                              1.566                         1.079   \n",
       "Iceland                                  1.482                         1.172   \n",
       "Netherlands                              1.501                         1.079   \n",
       "\n",
       "              Explained by: Healthy life expectancy  \\\n",
       "Country name                                          \n",
       "Finland                                       0.741   \n",
       "Denmark                                       0.763   \n",
       "Switzerland                                   0.816   \n",
       "Iceland                                       0.772   \n",
       "Netherlands                                   0.753   \n",
       "\n",
       "              Explained by: Freedom to make life choices  \\\n",
       "Country name                                               \n",
       "Finland                                            0.691   \n",
       "Denmark                                            0.686   \n",
       "Switzerland                                        0.653   \n",
       "Iceland                                            0.698   \n",
       "Netherlands                                        0.647   \n",
       "\n",
       "              Explained by: Generosity  \\\n",
       "Country name                             \n",
       "Finland                          0.124   \n",
       "Denmark                          0.208   \n",
       "Switzerland                      0.204   \n",
       "Iceland                          0.293   \n",
       "Netherlands                      0.302   \n",
       "\n",
       "              Explained by: Perceptions of corruption  Dystopia + residual  \n",
       "Country name                                                                \n",
       "Finland                                         0.481                3.253  \n",
       "Denmark                                         0.485                2.868  \n",
       "Switzerland                                     0.413                2.839  \n",
       "Iceland                                         0.170                2.967  \n",
       "Netherlands                                     0.384                2.798  "
      ],
      "text/html": "<div>\n<style scoped>\n    .dataframe tbody tr th:only-of-type {\n        vertical-align: middle;\n    }\n\n    .dataframe tbody tr th {\n        vertical-align: top;\n    }\n\n    .dataframe thead th {\n        text-align: right;\n    }\n</style>\n<table border=\"1\" class=\"dataframe\">\n  <thead>\n    <tr style=\"text-align: right;\">\n      <th></th>\n      <th>Regional indicator</th>\n      <th>Ladder score</th>\n      <th>Standard error of ladder score</th>\n      <th>upperwhisker</th>\n      <th>lowerwhisker</th>\n      <th>Logged GDP per capita</th>\n      <th>Social support</th>\n      <th>Healthy life expectancy</th>\n      <th>Freedom to make life choices</th>\n      <th>Generosity</th>\n      <th>Perceptions of corruption</th>\n      <th>Ladder score in Dystopia</th>\n      <th>Explained by: Log GDP per capita</th>\n      <th>Explained by: Social support</th>\n      <th>Explained by: Healthy life expectancy</th>\n      <th>Explained by: Freedom to make life choices</th>\n      <th>Explained by: Generosity</th>\n      <th>Explained by: Perceptions of corruption</th>\n      <th>Dystopia + residual</th>\n    </tr>\n    <tr>\n      <th>Country name</th>\n      <th></th>\n      <th></th>\n      <th></th>\n      <th></th>\n      <th></th>\n      <th></th>\n      <th></th>\n      <th></th>\n      <th></th>\n      <th></th>\n      <th></th>\n      <th></th>\n      <th></th>\n      <th></th>\n      <th></th>\n      <th></th>\n      <th></th>\n      <th></th>\n      <th></th>\n    </tr>\n  </thead>\n  <tbody>\n    <tr>\n      <th>Finland</th>\n      <td>Western Europe</td>\n      <td>7.842</td>\n      <td>0.032</td>\n      <td>7.904</td>\n      <td>7.780</td>\n      <td>10.775</td>\n      <td>0.954</td>\n      <td>72.0</td>\n      <td>0.949</td>\n      <td>-0.098</td>\n      <td>0.186</td>\n      <td>2.43</td>\n      <td>1.446</td>\n      <td>1.106</td>\n      <td>0.741</td>\n      <td>0.691</td>\n      <td>0.124</td>\n      <td>0.481</td>\n      <td>3.253</td>\n    </tr>\n    <tr>\n      <th>Denmark</th>\n      <td>Western Europe</td>\n      <td>7.620</td>\n      <td>0.035</td>\n      <td>7.687</td>\n      <td>7.552</td>\n      <td>10.933</td>\n      <td>0.954</td>\n      <td>72.7</td>\n      <td>0.946</td>\n      <td>0.030</td>\n      <td>0.179</td>\n      <td>2.43</td>\n      <td>1.502</td>\n      <td>1.108</td>\n      <td>0.763</td>\n      <td>0.686</td>\n      <td>0.208</td>\n      <td>0.485</td>\n      <td>2.868</td>\n    </tr>\n    <tr>\n      <th>Switzerland</th>\n      <td>Western Europe</td>\n      <td>7.571</td>\n      <td>0.036</td>\n      <td>7.643</td>\n      <td>7.500</td>\n      <td>11.117</td>\n      <td>0.942</td>\n      <td>74.4</td>\n      <td>0.919</td>\n      <td>0.025</td>\n      <td>0.292</td>\n      <td>2.43</td>\n      <td>1.566</td>\n      <td>1.079</td>\n      <td>0.816</td>\n      <td>0.653</td>\n      <td>0.204</td>\n      <td>0.413</td>\n      <td>2.839</td>\n    </tr>\n    <tr>\n      <th>Iceland</th>\n      <td>Western Europe</td>\n      <td>7.554</td>\n      <td>0.059</td>\n      <td>7.670</td>\n      <td>7.438</td>\n      <td>10.878</td>\n      <td>0.983</td>\n      <td>73.0</td>\n      <td>0.955</td>\n      <td>0.160</td>\n      <td>0.673</td>\n      <td>2.43</td>\n      <td>1.482</td>\n      <td>1.172</td>\n      <td>0.772</td>\n      <td>0.698</td>\n      <td>0.293</td>\n      <td>0.170</td>\n      <td>2.967</td>\n    </tr>\n    <tr>\n      <th>Netherlands</th>\n      <td>Western Europe</td>\n      <td>7.464</td>\n      <td>0.027</td>\n      <td>7.518</td>\n      <td>7.410</td>\n      <td>10.932</td>\n      <td>0.942</td>\n      <td>72.4</td>\n      <td>0.913</td>\n      <td>0.175</td>\n      <td>0.338</td>\n      <td>2.43</td>\n      <td>1.501</td>\n      <td>1.079</td>\n      <td>0.753</td>\n      <td>0.647</td>\n      <td>0.302</td>\n      <td>0.384</td>\n      <td>2.798</td>\n    </tr>\n  </tbody>\n</table>\n</div>"
     },
     "metadata": {},
     "execution_count": 7
    }
   ],
   "source": [
    "data.head()"
   ]
  },
  {
   "cell_type": "code",
   "execution_count": null,
   "metadata": {},
   "outputs": [],
   "source": []
  }
 ]
}