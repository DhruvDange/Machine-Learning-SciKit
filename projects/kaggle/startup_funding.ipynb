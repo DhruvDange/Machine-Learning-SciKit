{
 "cells": [
  {
   "cell_type": "code",
   "execution_count": 1,
   "metadata": {},
   "outputs": [],
   "source": [
    "import numpy as np\n",
    "import pandas as pd\n",
    "%matplotlib inline\n",
    "import matplotlib.pyplot as plt\n",
    "\n",
    "from sklearn.preprocessing import LabelEncoder\n",
    "from sklearn.metrics import classification_report\n",
    "from sklearn.model_selection import train_test_split\n",
    "from sklearn.neighbors import KNeighborsClassifier, KNeighborsRegressor\n",
    "from sklearn.linear_model import LinearRegression, LogisticRegression, Ridge, Lasso\n",
    "from sklearn.tree import DecisionTreeClassifier, DecisionTreeRegressor\n",
    "from sklearn.ensemble import RandomForestClassifier, GradientBoostingClassifier, RandomForestRegressor,     GradientBoostingRegressor, ExtraTreesRegressor\n",
    "from sklearn.svm import LinearSVC, SVC\n",
    "from sklearn.neural_network import MLPClassifier\n",
    "from sklearn.metrics import accuracy_score, r2_score, classification_report\n",
    "from sklearn.pipeline import Pipeline\n",
    "from sklearn.impute import SimpleImputer\n",
    "from sklearn.preprocessing import OneHotEncoder"
   ]
  },
  {
   "cell_type": "code",
   "execution_count": 2,
   "metadata": {},
   "outputs": [],
   "source": [
    "file_path  = \"..\\\\files\\\\project_files\\\\startup_funding.csv\"\n",
    "data = pd.read_csv(file_path, index_col = \"Sr No\")"
   ]
  },
  {
   "cell_type": "code",
   "execution_count": 3,
   "metadata": {},
   "outputs": [
    {
     "data": {
      "text/html": [
       "<div>\n",
       "<style scoped>\n",
       "    .dataframe tbody tr th:only-of-type {\n",
       "        vertical-align: middle;\n",
       "    }\n",
       "\n",
       "    .dataframe tbody tr th {\n",
       "        vertical-align: top;\n",
       "    }\n",
       "\n",
       "    .dataframe thead th {\n",
       "        text-align: right;\n",
       "    }\n",
       "</style>\n",
       "<table border=\"1\" class=\"dataframe\">\n",
       "  <thead>\n",
       "    <tr style=\"text-align: right;\">\n",
       "      <th></th>\n",
       "      <th>Date dd/mm/yyyy</th>\n",
       "      <th>Startup Name</th>\n",
       "      <th>Industry Vertical</th>\n",
       "      <th>SubVertical</th>\n",
       "      <th>City  Location</th>\n",
       "      <th>Investors Name</th>\n",
       "      <th>InvestmentnType</th>\n",
       "      <th>Amount in USD</th>\n",
       "      <th>Remarks</th>\n",
       "    </tr>\n",
       "  </thead>\n",
       "  <tbody>\n",
       "    <tr>\n",
       "      <th>count</th>\n",
       "      <td>3044</td>\n",
       "      <td>3044</td>\n",
       "      <td>2873</td>\n",
       "      <td>2108</td>\n",
       "      <td>2864</td>\n",
       "      <td>3020</td>\n",
       "      <td>3040</td>\n",
       "      <td>2084</td>\n",
       "      <td>419</td>\n",
       "    </tr>\n",
       "    <tr>\n",
       "      <th>unique</th>\n",
       "      <td>1035</td>\n",
       "      <td>2459</td>\n",
       "      <td>821</td>\n",
       "      <td>1942</td>\n",
       "      <td>112</td>\n",
       "      <td>2412</td>\n",
       "      <td>55</td>\n",
       "      <td>471</td>\n",
       "      <td>72</td>\n",
       "    </tr>\n",
       "    <tr>\n",
       "      <th>top</th>\n",
       "      <td>30/11/2016</td>\n",
       "      <td>Ola Cabs</td>\n",
       "      <td>Consumer Internet</td>\n",
       "      <td>Online Lending Platform</td>\n",
       "      <td>Bangalore</td>\n",
       "      <td>Undisclosed Investors</td>\n",
       "      <td>Private Equity</td>\n",
       "      <td>10,00,000</td>\n",
       "      <td>Series A</td>\n",
       "    </tr>\n",
       "    <tr>\n",
       "      <th>freq</th>\n",
       "      <td>11</td>\n",
       "      <td>8</td>\n",
       "      <td>941</td>\n",
       "      <td>11</td>\n",
       "      <td>700</td>\n",
       "      <td>39</td>\n",
       "      <td>1356</td>\n",
       "      <td>165</td>\n",
       "      <td>175</td>\n",
       "    </tr>\n",
       "  </tbody>\n",
       "</table>\n",
       "</div>"
      ],
      "text/plain": [
       "       Date dd/mm/yyyy Startup Name  Industry Vertical  \\\n",
       "count             3044         3044               2873   \n",
       "unique            1035         2459                821   \n",
       "top         30/11/2016     Ola Cabs  Consumer Internet   \n",
       "freq                11            8                941   \n",
       "\n",
       "                    SubVertical City  Location         Investors Name  \\\n",
       "count                      2108           2864                   3020   \n",
       "unique                     1942            112                   2412   \n",
       "top     Online Lending Platform      Bangalore  Undisclosed Investors   \n",
       "freq                         11            700                     39   \n",
       "\n",
       "       InvestmentnType Amount in USD   Remarks  \n",
       "count             3040          2084       419  \n",
       "unique              55           471        72  \n",
       "top     Private Equity     10,00,000  Series A  \n",
       "freq              1356           165       175  "
      ]
     },
     "execution_count": 3,
     "metadata": {},
     "output_type": "execute_result"
    }
   ],
   "source": [
    "data.describe()"
   ]
  },
  {
   "cell_type": "code",
   "execution_count": 4,
   "metadata": {},
   "outputs": [
    {
     "name": "stdout",
     "output_type": "stream",
     "text": [
      "<class 'pandas.core.frame.DataFrame'>\n",
      "Int64Index: 3044 entries, 1 to 3044\n",
      "Data columns (total 9 columns):\n",
      " #   Column             Non-Null Count  Dtype \n",
      "---  ------             --------------  ----- \n",
      " 0   Date dd/mm/yyyy    3044 non-null   object\n",
      " 1   Startup Name       3044 non-null   object\n",
      " 2   Industry Vertical  2873 non-null   object\n",
      " 3   SubVertical        2108 non-null   object\n",
      " 4   City  Location     2864 non-null   object\n",
      " 5   Investors Name     3020 non-null   object\n",
      " 6   InvestmentnType    3040 non-null   object\n",
      " 7   Amount in USD      2084 non-null   object\n",
      " 8   Remarks            419 non-null    object\n",
      "dtypes: object(9)\n",
      "memory usage: 237.8+ KB\n"
     ]
    }
   ],
   "source": [
    "data.info()"
   ]
  },
  {
   "cell_type": "code",
   "execution_count": 11,
   "metadata": {},
   "outputs": [
    {
     "data": {
      "text/html": [
       "<div>\n",
       "<style scoped>\n",
       "    .dataframe tbody tr th:only-of-type {\n",
       "        vertical-align: middle;\n",
       "    }\n",
       "\n",
       "    .dataframe tbody tr th {\n",
       "        vertical-align: top;\n",
       "    }\n",
       "\n",
       "    .dataframe thead th {\n",
       "        text-align: right;\n",
       "    }\n",
       "</style>\n",
       "<table border=\"1\" class=\"dataframe\">\n",
       "  <thead>\n",
       "    <tr style=\"text-align: right;\">\n",
       "      <th></th>\n",
       "      <th>Date dd/mm/yyyy</th>\n",
       "      <th>Startup Name</th>\n",
       "      <th>Industry Vertical</th>\n",
       "      <th>SubVertical</th>\n",
       "      <th>City  Location</th>\n",
       "      <th>Investors Name</th>\n",
       "      <th>InvestmentnType</th>\n",
       "      <th>Amount in USD</th>\n",
       "      <th>Remarks</th>\n",
       "    </tr>\n",
       "    <tr>\n",
       "      <th>Sr No</th>\n",
       "      <th></th>\n",
       "      <th></th>\n",
       "      <th></th>\n",
       "      <th></th>\n",
       "      <th></th>\n",
       "      <th></th>\n",
       "      <th></th>\n",
       "      <th></th>\n",
       "      <th></th>\n",
       "    </tr>\n",
       "  </thead>\n",
       "  <tbody>\n",
       "    <tr>\n",
       "      <th>1</th>\n",
       "      <td>09/01/2020</td>\n",
       "      <td>BYJU’S</td>\n",
       "      <td>E-Tech</td>\n",
       "      <td>E-learning</td>\n",
       "      <td>Bengaluru</td>\n",
       "      <td>Tiger Global Management</td>\n",
       "      <td>Private Equity Round</td>\n",
       "      <td>200000000.0</td>\n",
       "      <td>NaN</td>\n",
       "    </tr>\n",
       "    <tr>\n",
       "      <th>2</th>\n",
       "      <td>13/01/2020</td>\n",
       "      <td>Shuttl</td>\n",
       "      <td>Transportation</td>\n",
       "      <td>App based shuttle service</td>\n",
       "      <td>Gurgaon</td>\n",
       "      <td>Susquehanna Growth Equity</td>\n",
       "      <td>Series C</td>\n",
       "      <td>8048394.0</td>\n",
       "      <td>NaN</td>\n",
       "    </tr>\n",
       "    <tr>\n",
       "      <th>3</th>\n",
       "      <td>09/01/2020</td>\n",
       "      <td>Mamaearth</td>\n",
       "      <td>E-commerce</td>\n",
       "      <td>Retailer of baby and toddler products</td>\n",
       "      <td>Bengaluru</td>\n",
       "      <td>Sequoia Capital India</td>\n",
       "      <td>Series B</td>\n",
       "      <td>18358860.0</td>\n",
       "      <td>NaN</td>\n",
       "    </tr>\n",
       "    <tr>\n",
       "      <th>4</th>\n",
       "      <td>02/01/2020</td>\n",
       "      <td>https://www.wealthbucket.in/</td>\n",
       "      <td>FinTech</td>\n",
       "      <td>Online Investment</td>\n",
       "      <td>New Delhi</td>\n",
       "      <td>Vinod Khatumal</td>\n",
       "      <td>Pre-series A</td>\n",
       "      <td>3000000.0</td>\n",
       "      <td>NaN</td>\n",
       "    </tr>\n",
       "    <tr>\n",
       "      <th>5</th>\n",
       "      <td>02/01/2020</td>\n",
       "      <td>Fashor</td>\n",
       "      <td>Fashion and Apparel</td>\n",
       "      <td>Embroiled Clothes For Women</td>\n",
       "      <td>Mumbai</td>\n",
       "      <td>Sprout Venture Partners</td>\n",
       "      <td>Seed Round</td>\n",
       "      <td>1800000.0</td>\n",
       "      <td>NaN</td>\n",
       "    </tr>\n",
       "  </tbody>\n",
       "</table>\n",
       "</div>"
      ],
      "text/plain": [
       "      Date dd/mm/yyyy                  Startup Name    Industry Vertical  \\\n",
       "Sr No                                                                      \n",
       "1          09/01/2020                        BYJU’S               E-Tech   \n",
       "2          13/01/2020                        Shuttl       Transportation   \n",
       "3          09/01/2020                     Mamaearth           E-commerce   \n",
       "4          02/01/2020  https://www.wealthbucket.in/              FinTech   \n",
       "5          02/01/2020                        Fashor  Fashion and Apparel   \n",
       "\n",
       "                                 SubVertical City  Location  \\\n",
       "Sr No                                                         \n",
       "1                                 E-learning      Bengaluru   \n",
       "2                  App based shuttle service        Gurgaon   \n",
       "3      Retailer of baby and toddler products      Bengaluru   \n",
       "4                          Online Investment      New Delhi   \n",
       "5                Embroiled Clothes For Women         Mumbai   \n",
       "\n",
       "                  Investors Name       InvestmentnType  Amount in USD Remarks  \n",
       "Sr No                                                                          \n",
       "1        Tiger Global Management  Private Equity Round    200000000.0     NaN  \n",
       "2      Susquehanna Growth Equity              Series C      8048394.0     NaN  \n",
       "3          Sequoia Capital India              Series B     18358860.0     NaN  \n",
       "4                 Vinod Khatumal          Pre-series A      3000000.0     NaN  \n",
       "5        Sprout Venture Partners            Seed Round      1800000.0     NaN  "
      ]
     },
     "execution_count": 11,
     "metadata": {},
     "output_type": "execute_result"
    }
   ],
   "source": [
    "data.head()"
   ]
  },
  {
   "cell_type": "code",
   "execution_count": 5,
   "metadata": {},
   "outputs": [],
   "source": [
    "data[\"Amount in USD\"] = data[\"Amount in USD\"].str.replace(',', '')\n",
    "data[\"Amount in USD\"] = pd.to_numeric(data[\"Amount in USD\"], errors='coerce')"
   ]
  },
  {
   "cell_type": "code",
   "execution_count": 6,
   "metadata": {},
   "outputs": [
    {
     "data": {
      "text/plain": [
       "Sr No\n",
       "1       200000000.0\n",
       "2         8048394.0\n",
       "3        18358860.0\n",
       "4         3000000.0\n",
       "5         1800000.0\n",
       "           ...     \n",
       "3040      4500000.0\n",
       "3041       825000.0\n",
       "3042      1500000.0\n",
       "3043            NaN\n",
       "3044       140000.0\n",
       "Name: Amount in USD, Length: 3044, dtype: float64"
      ]
     },
     "execution_count": 6,
     "metadata": {},
     "output_type": "execute_result"
    }
   ],
   "source": [
    "data[\"Amount in USD\"]"
   ]
  },
  {
   "cell_type": "code",
   "execution_count": 13,
   "metadata": {},
   "outputs": [
    {
     "data": {
      "text/plain": [
       "821"
      ]
     },
     "execution_count": 13,
     "metadata": {},
     "output_type": "execute_result"
    }
   ],
   "source": [
    "data['Industry Vertical'].unique()"
   ]
  }
 ],
 "metadata": {
  "interpreter": {
   "hash": "be586389b9b53da8b3339665700485502f47901d08bec1fe049525e0a8d6c925"
  },
  "kernelspec": {
   "display_name": "Python 3.9.6 64-bit ('Machine-Learning': venv)",
   "name": "python3"
  },
  "language_info": {
   "codemirror_mode": {
    "name": "ipython",
    "version": 3
   },
   "file_extension": ".py",
   "mimetype": "text/x-python",
   "name": "python",
   "nbconvert_exporter": "python",
   "pygments_lexer": "ipython3",
   "version": "3.9.6"
  }
 },
 "nbformat": 4,
 "nbformat_minor": 2
}
