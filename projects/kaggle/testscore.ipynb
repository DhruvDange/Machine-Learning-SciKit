{
 "metadata": {
  "language_info": {
   "codemirror_mode": {
    "name": "ipython",
    "version": 3
   },
   "file_extension": ".py",
   "mimetype": "text/x-python",
   "name": "python",
   "nbconvert_exporter": "python",
   "pygments_lexer": "ipython3",
   "version": "3.9.5"
  },
  "orig_nbformat": 2,
  "kernelspec": {
   "name": "python395jvsc74a57bd0fe393795eb9ef1a8d53c6af9d77f6a9248d9b4c67f71337e7b11835a8e095a8f",
   "display_name": "Python 3.9.5 64-bit ('Machine-Learning': venv)"
  }
 },
 "nbformat": 4,
 "nbformat_minor": 2,
 "cells": [
  {
   "cell_type": "code",
   "execution_count": 1,
   "metadata": {},
   "outputs": [],
   "source": [
    "import numpy as np\n",
    "import pandas as pd\n",
    "import seaborn as sns\n",
    "%matplotlib inline\n",
    "import matplotlib.pyplot as plt\n",
    "\n",
    "from sklearn.model_selection import train_test_split\n",
    "from sklearn.neighbors import KNeighborsClassifier, KNeighborsRegressor\n",
    "from sklearn.linear_model import LinearRegression, LogisticRegression, Ridge, Lasso\n",
    "from sklearn.tree import DecisionTreeClassifier\n",
    "from sklearn.ensemble import RandomForestClassifier, GradientBoostingClassifier\n",
    "from sklearn.svm import LinearSVC, SVC\n",
    "from sklearn.metrics import accuracy_score"
   ]
  },
  {
   "cell_type": "code",
   "execution_count": 2,
   "metadata": {},
   "outputs": [
    {
     "output_type": "execute_result",
     "data": {
      "text/plain": [
       "  school school_setting school_type classroom teaching_method  n_student  \\\n",
       "0  ANKYI          Urban  Non-public       6OL        Standard       20.0   \n",
       "1  ANKYI          Urban  Non-public       6OL        Standard       20.0   \n",
       "2  ANKYI          Urban  Non-public       6OL        Standard       20.0   \n",
       "3  ANKYI          Urban  Non-public       6OL        Standard       20.0   \n",
       "4  ANKYI          Urban  Non-public       6OL        Standard       20.0   \n",
       "\n",
       "  student_id  gender             lunch  pretest  posttest  \n",
       "0      2FHT3  Female  Does not qualify     62.0      72.0  \n",
       "1      3JIVH  Female  Does not qualify     66.0      79.0  \n",
       "2      3XOWE    Male  Does not qualify     64.0      76.0  \n",
       "3      556O0  Female  Does not qualify     61.0      77.0  \n",
       "4      74LOE    Male  Does not qualify     64.0      76.0  "
      ],
      "text/html": "<div>\n<style scoped>\n    .dataframe tbody tr th:only-of-type {\n        vertical-align: middle;\n    }\n\n    .dataframe tbody tr th {\n        vertical-align: top;\n    }\n\n    .dataframe thead th {\n        text-align: right;\n    }\n</style>\n<table border=\"1\" class=\"dataframe\">\n  <thead>\n    <tr style=\"text-align: right;\">\n      <th></th>\n      <th>school</th>\n      <th>school_setting</th>\n      <th>school_type</th>\n      <th>classroom</th>\n      <th>teaching_method</th>\n      <th>n_student</th>\n      <th>student_id</th>\n      <th>gender</th>\n      <th>lunch</th>\n      <th>pretest</th>\n      <th>posttest</th>\n    </tr>\n  </thead>\n  <tbody>\n    <tr>\n      <th>0</th>\n      <td>ANKYI</td>\n      <td>Urban</td>\n      <td>Non-public</td>\n      <td>6OL</td>\n      <td>Standard</td>\n      <td>20.0</td>\n      <td>2FHT3</td>\n      <td>Female</td>\n      <td>Does not qualify</td>\n      <td>62.0</td>\n      <td>72.0</td>\n    </tr>\n    <tr>\n      <th>1</th>\n      <td>ANKYI</td>\n      <td>Urban</td>\n      <td>Non-public</td>\n      <td>6OL</td>\n      <td>Standard</td>\n      <td>20.0</td>\n      <td>3JIVH</td>\n      <td>Female</td>\n      <td>Does not qualify</td>\n      <td>66.0</td>\n      <td>79.0</td>\n    </tr>\n    <tr>\n      <th>2</th>\n      <td>ANKYI</td>\n      <td>Urban</td>\n      <td>Non-public</td>\n      <td>6OL</td>\n      <td>Standard</td>\n      <td>20.0</td>\n      <td>3XOWE</td>\n      <td>Male</td>\n      <td>Does not qualify</td>\n      <td>64.0</td>\n      <td>76.0</td>\n    </tr>\n    <tr>\n      <th>3</th>\n      <td>ANKYI</td>\n      <td>Urban</td>\n      <td>Non-public</td>\n      <td>6OL</td>\n      <td>Standard</td>\n      <td>20.0</td>\n      <td>556O0</td>\n      <td>Female</td>\n      <td>Does not qualify</td>\n      <td>61.0</td>\n      <td>77.0</td>\n    </tr>\n    <tr>\n      <th>4</th>\n      <td>ANKYI</td>\n      <td>Urban</td>\n      <td>Non-public</td>\n      <td>6OL</td>\n      <td>Standard</td>\n      <td>20.0</td>\n      <td>74LOE</td>\n      <td>Male</td>\n      <td>Does not qualify</td>\n      <td>64.0</td>\n      <td>76.0</td>\n    </tr>\n  </tbody>\n</table>\n</div>"
     },
     "metadata": {},
     "execution_count": 2
    }
   ],
   "source": [
    "data = pd.read_csv('C:\\\\Users\\\\Dhruv\\\\Machine-Learning\\\\code\\\\files\\\\project_files\\\\test_scores.csv')\n",
    "data.head()"
   ]
  },
  {
   "cell_type": "code",
   "execution_count": 3,
   "metadata": {},
   "outputs": [
    {
     "output_type": "stream",
     "name": "stdout",
     "text": [
      "<class 'pandas.core.frame.DataFrame'>\nRangeIndex: 2133 entries, 0 to 2132\nData columns (total 11 columns):\n #   Column           Non-Null Count  Dtype  \n---  ------           --------------  -----  \n 0   school           2133 non-null   object \n 1   school_setting   2133 non-null   object \n 2   school_type      2133 non-null   object \n 3   classroom        2133 non-null   object \n 4   teaching_method  2133 non-null   object \n 5   n_student        2133 non-null   float64\n 6   student_id       2133 non-null   object \n 7   gender           2133 non-null   object \n 8   lunch            2133 non-null   object \n 9   pretest          2133 non-null   float64\n 10  posttest         2133 non-null   float64\ndtypes: float64(3), object(8)\nmemory usage: 183.4+ KB\n"
     ]
    }
   ],
   "source": [
    "data.info()"
   ]
  },
  {
   "cell_type": "code",
   "execution_count": 4,
   "metadata": {},
   "outputs": [
    {
     "output_type": "execute_result",
     "data": {
      "text/plain": [
       "         n_student      pretest     posttest\n",
       "count  2133.000000  2133.000000  2133.000000\n",
       "mean     22.796531    54.955931    67.102203\n",
       "std       4.228893    13.563101    13.986789\n",
       "min      14.000000    22.000000    32.000000\n",
       "25%      20.000000    44.000000    56.000000\n",
       "50%      22.000000    56.000000    68.000000\n",
       "75%      27.000000    65.000000    77.000000\n",
       "max      31.000000    93.000000   100.000000"
      ],
      "text/html": "<div>\n<style scoped>\n    .dataframe tbody tr th:only-of-type {\n        vertical-align: middle;\n    }\n\n    .dataframe tbody tr th {\n        vertical-align: top;\n    }\n\n    .dataframe thead th {\n        text-align: right;\n    }\n</style>\n<table border=\"1\" class=\"dataframe\">\n  <thead>\n    <tr style=\"text-align: right;\">\n      <th></th>\n      <th>n_student</th>\n      <th>pretest</th>\n      <th>posttest</th>\n    </tr>\n  </thead>\n  <tbody>\n    <tr>\n      <th>count</th>\n      <td>2133.000000</td>\n      <td>2133.000000</td>\n      <td>2133.000000</td>\n    </tr>\n    <tr>\n      <th>mean</th>\n      <td>22.796531</td>\n      <td>54.955931</td>\n      <td>67.102203</td>\n    </tr>\n    <tr>\n      <th>std</th>\n      <td>4.228893</td>\n      <td>13.563101</td>\n      <td>13.986789</td>\n    </tr>\n    <tr>\n      <th>min</th>\n      <td>14.000000</td>\n      <td>22.000000</td>\n      <td>32.000000</td>\n    </tr>\n    <tr>\n      <th>25%</th>\n      <td>20.000000</td>\n      <td>44.000000</td>\n      <td>56.000000</td>\n    </tr>\n    <tr>\n      <th>50%</th>\n      <td>22.000000</td>\n      <td>56.000000</td>\n      <td>68.000000</td>\n    </tr>\n    <tr>\n      <th>75%</th>\n      <td>27.000000</td>\n      <td>65.000000</td>\n      <td>77.000000</td>\n    </tr>\n    <tr>\n      <th>max</th>\n      <td>31.000000</td>\n      <td>93.000000</td>\n      <td>100.000000</td>\n    </tr>\n  </tbody>\n</table>\n</div>"
     },
     "metadata": {},
     "execution_count": 4
    }
   ],
   "source": [
    "data.describe()"
   ]
  },
  {
   "cell_type": "code",
   "execution_count": 5,
   "metadata": {},
   "outputs": [
    {
     "output_type": "execute_result",
     "data": {
      "text/plain": [
       "  school school_setting school_type classroom teaching_method  n_student  \\\n",
       "0  ANKYI          Urban  Non-public       6OL        Standard       20.0   \n",
       "1  ANKYI          Urban  Non-public       6OL        Standard       20.0   \n",
       "2  ANKYI          Urban  Non-public       6OL        Standard       20.0   \n",
       "3  ANKYI          Urban  Non-public       6OL        Standard       20.0   \n",
       "4  ANKYI          Urban  Non-public       6OL        Standard       20.0   \n",
       "\n",
       "  student_id  gender             lunch  pretest  posttest  \n",
       "0      2FHT3  Female  Does not qualify     62.0      72.0  \n",
       "1      3JIVH  Female  Does not qualify     66.0      79.0  \n",
       "2      3XOWE    Male  Does not qualify     64.0      76.0  \n",
       "3      556O0  Female  Does not qualify     61.0      77.0  \n",
       "4      74LOE    Male  Does not qualify     64.0      76.0  "
      ],
      "text/html": "<div>\n<style scoped>\n    .dataframe tbody tr th:only-of-type {\n        vertical-align: middle;\n    }\n\n    .dataframe tbody tr th {\n        vertical-align: top;\n    }\n\n    .dataframe thead th {\n        text-align: right;\n    }\n</style>\n<table border=\"1\" class=\"dataframe\">\n  <thead>\n    <tr style=\"text-align: right;\">\n      <th></th>\n      <th>school</th>\n      <th>school_setting</th>\n      <th>school_type</th>\n      <th>classroom</th>\n      <th>teaching_method</th>\n      <th>n_student</th>\n      <th>student_id</th>\n      <th>gender</th>\n      <th>lunch</th>\n      <th>pretest</th>\n      <th>posttest</th>\n    </tr>\n  </thead>\n  <tbody>\n    <tr>\n      <th>0</th>\n      <td>ANKYI</td>\n      <td>Urban</td>\n      <td>Non-public</td>\n      <td>6OL</td>\n      <td>Standard</td>\n      <td>20.0</td>\n      <td>2FHT3</td>\n      <td>Female</td>\n      <td>Does not qualify</td>\n      <td>62.0</td>\n      <td>72.0</td>\n    </tr>\n    <tr>\n      <th>1</th>\n      <td>ANKYI</td>\n      <td>Urban</td>\n      <td>Non-public</td>\n      <td>6OL</td>\n      <td>Standard</td>\n      <td>20.0</td>\n      <td>3JIVH</td>\n      <td>Female</td>\n      <td>Does not qualify</td>\n      <td>66.0</td>\n      <td>79.0</td>\n    </tr>\n    <tr>\n      <th>2</th>\n      <td>ANKYI</td>\n      <td>Urban</td>\n      <td>Non-public</td>\n      <td>6OL</td>\n      <td>Standard</td>\n      <td>20.0</td>\n      <td>3XOWE</td>\n      <td>Male</td>\n      <td>Does not qualify</td>\n      <td>64.0</td>\n      <td>76.0</td>\n    </tr>\n    <tr>\n      <th>3</th>\n      <td>ANKYI</td>\n      <td>Urban</td>\n      <td>Non-public</td>\n      <td>6OL</td>\n      <td>Standard</td>\n      <td>20.0</td>\n      <td>556O0</td>\n      <td>Female</td>\n      <td>Does not qualify</td>\n      <td>61.0</td>\n      <td>77.0</td>\n    </tr>\n    <tr>\n      <th>4</th>\n      <td>ANKYI</td>\n      <td>Urban</td>\n      <td>Non-public</td>\n      <td>6OL</td>\n      <td>Standard</td>\n      <td>20.0</td>\n      <td>74LOE</td>\n      <td>Male</td>\n      <td>Does not qualify</td>\n      <td>64.0</td>\n      <td>76.0</td>\n    </tr>\n  </tbody>\n</table>\n</div>"
     },
     "metadata": {},
     "execution_count": 5
    }
   ],
   "source": [
    "data[:5]"
   ]
  },
  {
   "cell_type": "code",
   "execution_count": 6,
   "metadata": {},
   "outputs": [],
   "source": [
    "data.drop(['student_id', 'classroom'],axis=1, inplace=True)"
   ]
  },
  {
   "cell_type": "code",
   "execution_count": 7,
   "metadata": {},
   "outputs": [
    {
     "output_type": "execute_result",
     "data": {
      "text/plain": [
       "  school school_setting school_type teaching_method  n_student  gender  \\\n",
       "0  ANKYI          Urban  Non-public        Standard       20.0  Female   \n",
       "1  ANKYI          Urban  Non-public        Standard       20.0  Female   \n",
       "2  ANKYI          Urban  Non-public        Standard       20.0    Male   \n",
       "3  ANKYI          Urban  Non-public        Standard       20.0  Female   \n",
       "4  ANKYI          Urban  Non-public        Standard       20.0    Male   \n",
       "\n",
       "              lunch  pretest  posttest  \n",
       "0  Does not qualify     62.0      72.0  \n",
       "1  Does not qualify     66.0      79.0  \n",
       "2  Does not qualify     64.0      76.0  \n",
       "3  Does not qualify     61.0      77.0  \n",
       "4  Does not qualify     64.0      76.0  "
      ],
      "text/html": "<div>\n<style scoped>\n    .dataframe tbody tr th:only-of-type {\n        vertical-align: middle;\n    }\n\n    .dataframe tbody tr th {\n        vertical-align: top;\n    }\n\n    .dataframe thead th {\n        text-align: right;\n    }\n</style>\n<table border=\"1\" class=\"dataframe\">\n  <thead>\n    <tr style=\"text-align: right;\">\n      <th></th>\n      <th>school</th>\n      <th>school_setting</th>\n      <th>school_type</th>\n      <th>teaching_method</th>\n      <th>n_student</th>\n      <th>gender</th>\n      <th>lunch</th>\n      <th>pretest</th>\n      <th>posttest</th>\n    </tr>\n  </thead>\n  <tbody>\n    <tr>\n      <th>0</th>\n      <td>ANKYI</td>\n      <td>Urban</td>\n      <td>Non-public</td>\n      <td>Standard</td>\n      <td>20.0</td>\n      <td>Female</td>\n      <td>Does not qualify</td>\n      <td>62.0</td>\n      <td>72.0</td>\n    </tr>\n    <tr>\n      <th>1</th>\n      <td>ANKYI</td>\n      <td>Urban</td>\n      <td>Non-public</td>\n      <td>Standard</td>\n      <td>20.0</td>\n      <td>Female</td>\n      <td>Does not qualify</td>\n      <td>66.0</td>\n      <td>79.0</td>\n    </tr>\n    <tr>\n      <th>2</th>\n      <td>ANKYI</td>\n      <td>Urban</td>\n      <td>Non-public</td>\n      <td>Standard</td>\n      <td>20.0</td>\n      <td>Male</td>\n      <td>Does not qualify</td>\n      <td>64.0</td>\n      <td>76.0</td>\n    </tr>\n    <tr>\n      <th>3</th>\n      <td>ANKYI</td>\n      <td>Urban</td>\n      <td>Non-public</td>\n      <td>Standard</td>\n      <td>20.0</td>\n      <td>Female</td>\n      <td>Does not qualify</td>\n      <td>61.0</td>\n      <td>77.0</td>\n    </tr>\n    <tr>\n      <th>4</th>\n      <td>ANKYI</td>\n      <td>Urban</td>\n      <td>Non-public</td>\n      <td>Standard</td>\n      <td>20.0</td>\n      <td>Male</td>\n      <td>Does not qualify</td>\n      <td>64.0</td>\n      <td>76.0</td>\n    </tr>\n  </tbody>\n</table>\n</div>"
     },
     "metadata": {},
     "execution_count": 7
    }
   ],
   "source": [
    "data[:5]"
   ]
  },
  {
   "cell_type": "code",
   "execution_count": 12,
   "metadata": {},
   "outputs": [],
   "source": [
    "features = data.drop('posttest', axis=1)\n",
    "target = data['posttest']"
   ]
  },
  {
   "cell_type": "code",
   "execution_count": 13,
   "metadata": {},
   "outputs": [],
   "source": [
    "X_train, X_test, y_train, y_test = train_test_split(features, target, random_state=42)"
   ]
  },
  {
   "cell_type": "code",
   "execution_count": 15,
   "metadata": {},
   "outputs": [],
   "source": [
    "from sklearn.preprocessing import LabelEncoder\n",
    "\n",
    "s = (X_train.dtypes == 'object')\n",
    "object_cols = list(s[s].index)\n",
    "\n",
    "# Make copy to avoid changing original data \n",
    "label_X_train = X_train.copy()\n",
    "label_X_test = X_test.copy()\n",
    "\n",
    "# Apply label encoder to each column with categorical data\n",
    "label_encoder = LabelEncoder()\n",
    "for col in object_cols:\n",
    "    label_X_train[col] = label_encoder.fit_transform(X_train[col])\n",
    "    label_X_test[col] = label_encoder.transform(X_test[col])"
   ]
  },
  {
   "cell_type": "code",
   "execution_count": 17,
   "metadata": {},
   "outputs": [
    {
     "output_type": "stream",
     "name": "stdout",
     "text": [
      "Training score: 0.95\nTest score: 0.95\n"
     ]
    }
   ],
   "source": [
    "lr = LinearRegression().fit(label_X_train, y_train)\n",
    "\n",
    "print(\"Training score: {:.2f}\".format(lr.score(label_X_train, y_train)))\n",
    "print(\"Test score: {:.2f}\".format(lr.score(label_X_test, y_test)))"
   ]
  },
  {
   "cell_type": "code",
   "execution_count": null,
   "metadata": {},
   "outputs": [],
   "source": []
  }
 ]
}