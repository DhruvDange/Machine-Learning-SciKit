{
 "metadata": {
  "language_info": {
   "codemirror_mode": {
    "name": "ipython",
    "version": 3
   },
   "file_extension": ".py",
   "mimetype": "text/x-python",
   "name": "python",
   "nbconvert_exporter": "python",
   "pygments_lexer": "ipython3",
   "version": "3.9.5"
  },
  "orig_nbformat": 2,
  "kernelspec": {
   "name": "python395jvsc74a57bd0be586389b9b53da8b3339665700485502f47901d08bec1fe049525e0a8d6c925",
   "display_name": "Python 3.9.5 64-bit ('Machine-Learning': venv)"
  },
  "metadata": {
   "interpreter": {
    "hash": "3bd40280c3a9e5a5aebed864a8470f4976478a1440aa207ec01ec5a70789b716"
   }
  }
 },
 "nbformat": 4,
 "nbformat_minor": 2,
 "cells": [
  {
   "cell_type": "code",
   "execution_count": 1,
   "metadata": {},
   "outputs": [],
   "source": [
    "import numpy as np\n",
    "import pandas as pd\n",
    "import seaborn as sns\n",
    "%matplotlib inline\n",
    "import matplotlib.pyplot as plt\n",
    "\n",
    "from sklearn.preprocessing import LabelEncoder\n",
    "from sklearn.metrics import classification_report\n",
    "from pandas_profiling import ProfileReport\n",
    "from sklearn.model_selection import train_test_split\n",
    "from sklearn.neighbors import KNeighborsClassifier, KNeighborsRegressor\n",
    "from sklearn.linear_model import LinearRegression, LogisticRegression, Ridge, Lasso\n",
    "from sklearn.tree import DecisionTreeClassifier, DecisionTreeRegressor\n",
    "from sklearn.ensemble import RandomForestClassifier, GradientBoostingClassifier, RandomForestRegressor,     GradientBoostingRegressor, ExtraTreesRegressor\n",
    "from sklearn.svm import LinearSVC, SVC\n",
    "from sklearn.metrics import accuracy_score, r2_score, classification_report\n",
    "from sklearn.pipeline import Pipeline\n",
    "from sklearn.impute import SimpleImputer\n",
    "from sklearn.preprocessing import OneHotEncoder"
   ]
  },
  {
   "cell_type": "code",
   "execution_count": 33,
   "metadata": {},
   "outputs": [],
   "source": [
    "csgo_filepath = \"C:\\\\Users\\\\Dhruv\\\\Machine-Learning\\\\code\\\\files\\\\project_files\\\\csgo.csv\"\n",
    "data = pd.read_csv(csgo_filepath)"
   ]
  },
  {
   "cell_type": "code",
   "execution_count": 5,
   "metadata": {},
   "outputs": [
    {
     "output_type": "execute_result",
     "data": {
      "text/plain": [
       "   time_left  ct_score  t_score       map  bomb_planted  ct_health  t_health  \\\n",
       "0     175.00       0.0      0.0  de_dust2         False      500.0     500.0   \n",
       "1     156.03       0.0      0.0  de_dust2         False      500.0     500.0   \n",
       "2      96.03       0.0      0.0  de_dust2         False      391.0     400.0   \n",
       "3      76.03       0.0      0.0  de_dust2         False      391.0     400.0   \n",
       "4     174.97       1.0      0.0  de_dust2         False      500.0     500.0   \n",
       "\n",
       "   ct_armor  t_armor  ct_money  ...  t_grenade_flashbang  \\\n",
       "0       0.0      0.0    4000.0  ...                  0.0   \n",
       "1     400.0    300.0     600.0  ...                  0.0   \n",
       "2     294.0    200.0     750.0  ...                  0.0   \n",
       "3     294.0    200.0     750.0  ...                  0.0   \n",
       "4     192.0      0.0   18350.0  ...                  0.0   \n",
       "\n",
       "   ct_grenade_smokegrenade  t_grenade_smokegrenade  \\\n",
       "0                      0.0                     0.0   \n",
       "1                      0.0                     2.0   \n",
       "2                      0.0                     2.0   \n",
       "3                      0.0                     0.0   \n",
       "4                      0.0                     0.0   \n",
       "\n",
       "   ct_grenade_incendiarygrenade  t_grenade_incendiarygrenade  \\\n",
       "0                           0.0                          0.0   \n",
       "1                           0.0                          0.0   \n",
       "2                           0.0                          0.0   \n",
       "3                           0.0                          0.0   \n",
       "4                           0.0                          0.0   \n",
       "\n",
       "   ct_grenade_molotovgrenade  t_grenade_molotovgrenade  \\\n",
       "0                        0.0                       0.0   \n",
       "1                        0.0                       0.0   \n",
       "2                        0.0                       0.0   \n",
       "3                        0.0                       0.0   \n",
       "4                        0.0                       0.0   \n",
       "\n",
       "   ct_grenade_decoygrenade  t_grenade_decoygrenade  round_winner  \n",
       "0                      0.0                     0.0            CT  \n",
       "1                      0.0                     0.0            CT  \n",
       "2                      0.0                     0.0            CT  \n",
       "3                      0.0                     0.0            CT  \n",
       "4                      0.0                     0.0            CT  \n",
       "\n",
       "[5 rows x 97 columns]"
      ],
      "text/html": "<div>\n<style scoped>\n    .dataframe tbody tr th:only-of-type {\n        vertical-align: middle;\n    }\n\n    .dataframe tbody tr th {\n        vertical-align: top;\n    }\n\n    .dataframe thead th {\n        text-align: right;\n    }\n</style>\n<table border=\"1\" class=\"dataframe\">\n  <thead>\n    <tr style=\"text-align: right;\">\n      <th></th>\n      <th>time_left</th>\n      <th>ct_score</th>\n      <th>t_score</th>\n      <th>map</th>\n      <th>bomb_planted</th>\n      <th>ct_health</th>\n      <th>t_health</th>\n      <th>ct_armor</th>\n      <th>t_armor</th>\n      <th>ct_money</th>\n      <th>...</th>\n      <th>t_grenade_flashbang</th>\n      <th>ct_grenade_smokegrenade</th>\n      <th>t_grenade_smokegrenade</th>\n      <th>ct_grenade_incendiarygrenade</th>\n      <th>t_grenade_incendiarygrenade</th>\n      <th>ct_grenade_molotovgrenade</th>\n      <th>t_grenade_molotovgrenade</th>\n      <th>ct_grenade_decoygrenade</th>\n      <th>t_grenade_decoygrenade</th>\n      <th>round_winner</th>\n    </tr>\n  </thead>\n  <tbody>\n    <tr>\n      <th>0</th>\n      <td>175.00</td>\n      <td>0.0</td>\n      <td>0.0</td>\n      <td>de_dust2</td>\n      <td>False</td>\n      <td>500.0</td>\n      <td>500.0</td>\n      <td>0.0</td>\n      <td>0.0</td>\n      <td>4000.0</td>\n      <td>...</td>\n      <td>0.0</td>\n      <td>0.0</td>\n      <td>0.0</td>\n      <td>0.0</td>\n      <td>0.0</td>\n      <td>0.0</td>\n      <td>0.0</td>\n      <td>0.0</td>\n      <td>0.0</td>\n      <td>CT</td>\n    </tr>\n    <tr>\n      <th>1</th>\n      <td>156.03</td>\n      <td>0.0</td>\n      <td>0.0</td>\n      <td>de_dust2</td>\n      <td>False</td>\n      <td>500.0</td>\n      <td>500.0</td>\n      <td>400.0</td>\n      <td>300.0</td>\n      <td>600.0</td>\n      <td>...</td>\n      <td>0.0</td>\n      <td>0.0</td>\n      <td>2.0</td>\n      <td>0.0</td>\n      <td>0.0</td>\n      <td>0.0</td>\n      <td>0.0</td>\n      <td>0.0</td>\n      <td>0.0</td>\n      <td>CT</td>\n    </tr>\n    <tr>\n      <th>2</th>\n      <td>96.03</td>\n      <td>0.0</td>\n      <td>0.0</td>\n      <td>de_dust2</td>\n      <td>False</td>\n      <td>391.0</td>\n      <td>400.0</td>\n      <td>294.0</td>\n      <td>200.0</td>\n      <td>750.0</td>\n      <td>...</td>\n      <td>0.0</td>\n      <td>0.0</td>\n      <td>2.0</td>\n      <td>0.0</td>\n      <td>0.0</td>\n      <td>0.0</td>\n      <td>0.0</td>\n      <td>0.0</td>\n      <td>0.0</td>\n      <td>CT</td>\n    </tr>\n    <tr>\n      <th>3</th>\n      <td>76.03</td>\n      <td>0.0</td>\n      <td>0.0</td>\n      <td>de_dust2</td>\n      <td>False</td>\n      <td>391.0</td>\n      <td>400.0</td>\n      <td>294.0</td>\n      <td>200.0</td>\n      <td>750.0</td>\n      <td>...</td>\n      <td>0.0</td>\n      <td>0.0</td>\n      <td>0.0</td>\n      <td>0.0</td>\n      <td>0.0</td>\n      <td>0.0</td>\n      <td>0.0</td>\n      <td>0.0</td>\n      <td>0.0</td>\n      <td>CT</td>\n    </tr>\n    <tr>\n      <th>4</th>\n      <td>174.97</td>\n      <td>1.0</td>\n      <td>0.0</td>\n      <td>de_dust2</td>\n      <td>False</td>\n      <td>500.0</td>\n      <td>500.0</td>\n      <td>192.0</td>\n      <td>0.0</td>\n      <td>18350.0</td>\n      <td>...</td>\n      <td>0.0</td>\n      <td>0.0</td>\n      <td>0.0</td>\n      <td>0.0</td>\n      <td>0.0</td>\n      <td>0.0</td>\n      <td>0.0</td>\n      <td>0.0</td>\n      <td>0.0</td>\n      <td>CT</td>\n    </tr>\n  </tbody>\n</table>\n<p>5 rows × 97 columns</p>\n</div>"
     },
     "metadata": {},
     "execution_count": 5
    }
   ],
   "source": [
    "data.head()"
   ]
  },
  {
   "cell_type": "code",
   "execution_count": 6,
   "metadata": {},
   "outputs": [
    {
     "output_type": "execute_result",
     "data": {
      "text/plain": [
       "        time_left  ct_score  t_score       map  bomb_planted  ct_health  \\\n",
       "122405      15.41      11.0     14.0  de_train          True      200.0   \n",
       "122406     174.93      11.0     15.0  de_train         False      500.0   \n",
       "122407     114.93      11.0     15.0  de_train         False      500.0   \n",
       "122408      94.93      11.0     15.0  de_train         False      500.0   \n",
       "122409      74.93      11.0     15.0  de_train         False      375.0   \n",
       "\n",
       "        t_health  ct_armor  t_armor  ct_money  ...  t_grenade_flashbang  \\\n",
       "122405     242.0     195.0    359.0     100.0  ...                  2.0   \n",
       "122406     500.0      95.0    175.0   11500.0  ...                  2.0   \n",
       "122407     500.0     495.0    475.0    1200.0  ...                  4.0   \n",
       "122408     500.0     495.0    475.0    1200.0  ...                  5.0   \n",
       "122409     479.0     395.0    466.0    1100.0  ...                  3.0   \n",
       "\n",
       "        ct_grenade_smokegrenade  t_grenade_smokegrenade  \\\n",
       "122405                      1.0                     1.0   \n",
       "122406                      1.0                     0.0   \n",
       "122407                      3.0                     5.0   \n",
       "122408                      0.0                     3.0   \n",
       "122409                      0.0                     2.0   \n",
       "\n",
       "        ct_grenade_incendiarygrenade  t_grenade_incendiarygrenade  \\\n",
       "122405                           0.0                          0.0   \n",
       "122406                           0.0                          0.0   \n",
       "122407                           1.0                          0.0   \n",
       "122408                           0.0                          0.0   \n",
       "122409                           0.0                          0.0   \n",
       "\n",
       "        ct_grenade_molotovgrenade  t_grenade_molotovgrenade  \\\n",
       "122405                        0.0                       0.0   \n",
       "122406                        0.0                       0.0   \n",
       "122407                        0.0                       5.0   \n",
       "122408                        0.0                       4.0   \n",
       "122409                        0.0                       3.0   \n",
       "\n",
       "        ct_grenade_decoygrenade  t_grenade_decoygrenade  round_winner  \n",
       "122405                      0.0                     0.0             T  \n",
       "122406                      0.0                     0.0             T  \n",
       "122407                      0.0                     0.0             T  \n",
       "122408                      0.0                     0.0             T  \n",
       "122409                      0.0                     0.0             T  \n",
       "\n",
       "[5 rows x 97 columns]"
      ],
      "text/html": "<div>\n<style scoped>\n    .dataframe tbody tr th:only-of-type {\n        vertical-align: middle;\n    }\n\n    .dataframe tbody tr th {\n        vertical-align: top;\n    }\n\n    .dataframe thead th {\n        text-align: right;\n    }\n</style>\n<table border=\"1\" class=\"dataframe\">\n  <thead>\n    <tr style=\"text-align: right;\">\n      <th></th>\n      <th>time_left</th>\n      <th>ct_score</th>\n      <th>t_score</th>\n      <th>map</th>\n      <th>bomb_planted</th>\n      <th>ct_health</th>\n      <th>t_health</th>\n      <th>ct_armor</th>\n      <th>t_armor</th>\n      <th>ct_money</th>\n      <th>...</th>\n      <th>t_grenade_flashbang</th>\n      <th>ct_grenade_smokegrenade</th>\n      <th>t_grenade_smokegrenade</th>\n      <th>ct_grenade_incendiarygrenade</th>\n      <th>t_grenade_incendiarygrenade</th>\n      <th>ct_grenade_molotovgrenade</th>\n      <th>t_grenade_molotovgrenade</th>\n      <th>ct_grenade_decoygrenade</th>\n      <th>t_grenade_decoygrenade</th>\n      <th>round_winner</th>\n    </tr>\n  </thead>\n  <tbody>\n    <tr>\n      <th>122405</th>\n      <td>15.41</td>\n      <td>11.0</td>\n      <td>14.0</td>\n      <td>de_train</td>\n      <td>True</td>\n      <td>200.0</td>\n      <td>242.0</td>\n      <td>195.0</td>\n      <td>359.0</td>\n      <td>100.0</td>\n      <td>...</td>\n      <td>2.0</td>\n      <td>1.0</td>\n      <td>1.0</td>\n      <td>0.0</td>\n      <td>0.0</td>\n      <td>0.0</td>\n      <td>0.0</td>\n      <td>0.0</td>\n      <td>0.0</td>\n      <td>T</td>\n    </tr>\n    <tr>\n      <th>122406</th>\n      <td>174.93</td>\n      <td>11.0</td>\n      <td>15.0</td>\n      <td>de_train</td>\n      <td>False</td>\n      <td>500.0</td>\n      <td>500.0</td>\n      <td>95.0</td>\n      <td>175.0</td>\n      <td>11500.0</td>\n      <td>...</td>\n      <td>2.0</td>\n      <td>1.0</td>\n      <td>0.0</td>\n      <td>0.0</td>\n      <td>0.0</td>\n      <td>0.0</td>\n      <td>0.0</td>\n      <td>0.0</td>\n      <td>0.0</td>\n      <td>T</td>\n    </tr>\n    <tr>\n      <th>122407</th>\n      <td>114.93</td>\n      <td>11.0</td>\n      <td>15.0</td>\n      <td>de_train</td>\n      <td>False</td>\n      <td>500.0</td>\n      <td>500.0</td>\n      <td>495.0</td>\n      <td>475.0</td>\n      <td>1200.0</td>\n      <td>...</td>\n      <td>4.0</td>\n      <td>3.0</td>\n      <td>5.0</td>\n      <td>1.0</td>\n      <td>0.0</td>\n      <td>0.0</td>\n      <td>5.0</td>\n      <td>0.0</td>\n      <td>0.0</td>\n      <td>T</td>\n    </tr>\n    <tr>\n      <th>122408</th>\n      <td>94.93</td>\n      <td>11.0</td>\n      <td>15.0</td>\n      <td>de_train</td>\n      <td>False</td>\n      <td>500.0</td>\n      <td>500.0</td>\n      <td>495.0</td>\n      <td>475.0</td>\n      <td>1200.0</td>\n      <td>...</td>\n      <td>5.0</td>\n      <td>0.0</td>\n      <td>3.0</td>\n      <td>0.0</td>\n      <td>0.0</td>\n      <td>0.0</td>\n      <td>4.0</td>\n      <td>0.0</td>\n      <td>0.0</td>\n      <td>T</td>\n    </tr>\n    <tr>\n      <th>122409</th>\n      <td>74.93</td>\n      <td>11.0</td>\n      <td>15.0</td>\n      <td>de_train</td>\n      <td>False</td>\n      <td>375.0</td>\n      <td>479.0</td>\n      <td>395.0</td>\n      <td>466.0</td>\n      <td>1100.0</td>\n      <td>...</td>\n      <td>3.0</td>\n      <td>0.0</td>\n      <td>2.0</td>\n      <td>0.0</td>\n      <td>0.0</td>\n      <td>0.0</td>\n      <td>3.0</td>\n      <td>0.0</td>\n      <td>0.0</td>\n      <td>T</td>\n    </tr>\n  </tbody>\n</table>\n<p>5 rows × 97 columns</p>\n</div>"
     },
     "metadata": {},
     "execution_count": 6
    }
   ],
   "source": [
    "data.tail()"
   ]
  },
  {
   "cell_type": "code",
   "execution_count": 10,
   "metadata": {},
   "outputs": [
    {
     "output_type": "stream",
     "name": "stdout",
     "text": [
      "<class 'pandas.core.frame.DataFrame'>\nRangeIndex: 122410 entries, 0 to 122409\nData columns (total 97 columns):\n #   Column                        Non-Null Count   Dtype  \n---  ------                        --------------   -----  \n 0   time_left                     122410 non-null  float64\n 1   ct_score                      122410 non-null  float64\n 2   t_score                       122410 non-null  float64\n 3   map                           122410 non-null  object \n 4   bomb_planted                  122410 non-null  bool   \n 5   ct_health                     122410 non-null  float64\n 6   t_health                      122410 non-null  float64\n 7   ct_armor                      122410 non-null  float64\n 8   t_armor                       122410 non-null  float64\n 9   ct_money                      122410 non-null  float64\n 10  t_money                       122410 non-null  float64\n 11  ct_helmets                    122410 non-null  float64\n 12  t_helmets                     122410 non-null  float64\n 13  ct_defuse_kits                122410 non-null  float64\n 14  ct_players_alive              122410 non-null  float64\n 15  t_players_alive               122410 non-null  float64\n 16  ct_weapon_ak47                122410 non-null  float64\n 17  t_weapon_ak47                 122410 non-null  float64\n 18  ct_weapon_aug                 122410 non-null  float64\n 19  t_weapon_aug                  122410 non-null  float64\n 20  ct_weapon_awp                 122410 non-null  float64\n 21  t_weapon_awp                  122410 non-null  float64\n 22  ct_weapon_bizon               122410 non-null  float64\n 23  t_weapon_bizon                122410 non-null  float64\n 24  ct_weapon_cz75auto            122410 non-null  float64\n 25  t_weapon_cz75auto             122410 non-null  float64\n 26  ct_weapon_elite               122410 non-null  float64\n 27  t_weapon_elite                122410 non-null  float64\n 28  ct_weapon_famas               122410 non-null  float64\n 29  t_weapon_famas                122410 non-null  float64\n 30  ct_weapon_g3sg1               122410 non-null  float64\n 31  t_weapon_g3sg1                122410 non-null  float64\n 32  ct_weapon_galilar             122410 non-null  float64\n 33  t_weapon_galilar              122410 non-null  float64\n 34  ct_weapon_glock               122410 non-null  float64\n 35  t_weapon_glock                122410 non-null  float64\n 36  ct_weapon_m249                122410 non-null  float64\n 37  t_weapon_m249                 122410 non-null  float64\n 38  ct_weapon_m4a1s               122410 non-null  float64\n 39  t_weapon_m4a1s                122410 non-null  float64\n 40  ct_weapon_m4a4                122410 non-null  float64\n 41  t_weapon_m4a4                 122410 non-null  float64\n 42  ct_weapon_mac10               122410 non-null  float64\n 43  t_weapon_mac10                122410 non-null  float64\n 44  ct_weapon_mag7                122410 non-null  float64\n 45  t_weapon_mag7                 122410 non-null  float64\n 46  ct_weapon_mp5sd               122410 non-null  float64\n 47  t_weapon_mp5sd                122410 non-null  float64\n 48  ct_weapon_mp7                 122410 non-null  float64\n 49  t_weapon_mp7                  122410 non-null  float64\n 50  ct_weapon_mp9                 122410 non-null  float64\n 51  t_weapon_mp9                  122410 non-null  float64\n 52  ct_weapon_negev               122410 non-null  float64\n 53  t_weapon_negev                122410 non-null  float64\n 54  ct_weapon_nova                122410 non-null  float64\n 55  t_weapon_nova                 122410 non-null  float64\n 56  ct_weapon_p90                 122410 non-null  float64\n 57  t_weapon_p90                  122410 non-null  float64\n 58  ct_weapon_r8revolver          122410 non-null  float64\n 59  t_weapon_r8revolver           122410 non-null  float64\n 60  ct_weapon_sawedoff            122410 non-null  float64\n 61  t_weapon_sawedoff             122410 non-null  float64\n 62  ct_weapon_scar20              122410 non-null  float64\n 63  t_weapon_scar20               122410 non-null  float64\n 64  ct_weapon_sg553               122410 non-null  float64\n 65  t_weapon_sg553                122410 non-null  float64\n 66  ct_weapon_ssg08               122410 non-null  float64\n 67  t_weapon_ssg08                122410 non-null  float64\n 68  ct_weapon_ump45               122410 non-null  float64\n 69  t_weapon_ump45                122410 non-null  float64\n 70  ct_weapon_xm1014              122410 non-null  float64\n 71  t_weapon_xm1014               122410 non-null  float64\n 72  ct_weapon_deagle              122410 non-null  float64\n 73  t_weapon_deagle               122410 non-null  float64\n 74  ct_weapon_fiveseven           122410 non-null  float64\n 75  t_weapon_fiveseven            122410 non-null  float64\n 76  ct_weapon_usps                122410 non-null  float64\n 77  t_weapon_usps                 122410 non-null  float64\n 78  ct_weapon_p250                122410 non-null  float64\n 79  t_weapon_p250                 122410 non-null  float64\n 80  ct_weapon_p2000               122410 non-null  float64\n 81  t_weapon_p2000                122410 non-null  float64\n 82  ct_weapon_tec9                122410 non-null  float64\n 83  t_weapon_tec9                 122410 non-null  float64\n 84  ct_grenade_hegrenade          122410 non-null  float64\n 85  t_grenade_hegrenade           122410 non-null  float64\n 86  ct_grenade_flashbang          122410 non-null  float64\n 87  t_grenade_flashbang           122410 non-null  float64\n 88  ct_grenade_smokegrenade       122410 non-null  float64\n 89  t_grenade_smokegrenade        122410 non-null  float64\n 90  ct_grenade_incendiarygrenade  122410 non-null  float64\n 91  t_grenade_incendiarygrenade   122410 non-null  float64\n 92  ct_grenade_molotovgrenade     122410 non-null  float64\n 93  t_grenade_molotovgrenade      122410 non-null  float64\n 94  ct_grenade_decoygrenade       122410 non-null  float64\n 95  t_grenade_decoygrenade        122410 non-null  float64\n 96  round_winner                  122410 non-null  object \ndtypes: bool(1), float64(94), object(2)\nmemory usage: 89.8+ MB\n"
     ]
    }
   ],
   "source": [
    "data.info()"
   ]
  },
  {
   "cell_type": "code",
   "execution_count": 34,
   "metadata": {},
   "outputs": [
    {
     "output_type": "stream",
     "name": "stderr",
     "text": [
      "C:\\Users\\Dhruv\\Machine-Learning\\lib\\site-packages\\seaborn\\_decorators.py:36: FutureWarning: Pass the following variable as a keyword arg: x. From version 0.12, the only valid positional argument will be `data`, and passing other arguments without an explicit keyword will result in an error or misinterpretation.\n  warnings.warn(\n"
     ]
    },
    {
     "output_type": "execute_result",
     "data": {
      "text/plain": [
       "<AxesSubplot:xlabel='round_winner', ylabel='count'>"
      ]
     },
     "metadata": {},
     "execution_count": 34
    },
    {
     "output_type": "display_data",
     "data": {
      "text/plain": "<Figure size 432x288 with 1 Axes>",
      "image/svg+xml": "<?xml version=\"1.0\" encoding=\"utf-8\" standalone=\"no\"?>\r\n<!DOCTYPE svg PUBLIC \"-//W3C//DTD SVG 1.1//EN\"\r\n  \"http://www.w3.org/Graphics/SVG/1.1/DTD/svg11.dtd\">\r\n<svg height=\"262.474375pt\" version=\"1.1\" viewBox=\"0 0 401.690625 262.474375\" width=\"401.690625pt\" xmlns=\"http://www.w3.org/2000/svg\" xmlns:xlink=\"http://www.w3.org/1999/xlink\">\r\n <metadata>\r\n  <rdf:RDF xmlns:cc=\"http://creativecommons.org/ns#\" xmlns:dc=\"http://purl.org/dc/elements/1.1/\" xmlns:rdf=\"http://www.w3.org/1999/02/22-rdf-syntax-ns#\">\r\n   <cc:Work>\r\n    <dc:type rdf:resource=\"http://purl.org/dc/dcmitype/StillImage\"/>\r\n    <dc:date>2021-06-06T23:52:14.667652</dc:date>\r\n    <dc:format>image/svg+xml</dc:format>\r\n    <dc:creator>\r\n     <cc:Agent>\r\n      <dc:title>Matplotlib v3.4.2, https://matplotlib.org/</dc:title>\r\n     </cc:Agent>\r\n    </dc:creator>\r\n   </cc:Work>\r\n  </rdf:RDF>\r\n </metadata>\r\n <defs>\r\n  <style type=\"text/css\">*{stroke-linecap:butt;stroke-linejoin:round;}</style>\r\n </defs>\r\n <g id=\"figure_1\">\r\n  <g id=\"patch_1\">\r\n   <path d=\"M 0 262.474375 \r\nL 401.690625 262.474375 \r\nL 401.690625 0 \r\nL 0 0 \r\nz\r\n\" style=\"fill:none;\"/>\r\n  </g>\r\n  <g id=\"axes_1\">\r\n   <g id=\"patch_2\">\r\n    <path d=\"M 59.690625 224.64 \r\nL 394.490625 224.64 \r\nL 394.490625 7.2 \r\nL 59.690625 7.2 \r\nz\r\n\" style=\"fill:#ffffff;\"/>\r\n   </g>\r\n   <g id=\"patch_3\">\r\n    <path clip-path=\"url(#pda532af31e)\" d=\"M 76.430625 224.64 \r\nL 210.350625 224.64 \r\nL 210.350625 25.524992 \r\nL 76.430625 25.524992 \r\nz\r\n\" style=\"fill:#3274a1;\"/>\r\n   </g>\r\n   <g id=\"patch_4\">\r\n    <path clip-path=\"url(#pda532af31e)\" d=\"M 243.830625 224.64 \r\nL 377.750625 224.64 \r\nL 377.750625 17.554286 \r\nL 243.830625 17.554286 \r\nz\r\n\" style=\"fill:#e1812c;\"/>\r\n   </g>\r\n   <g id=\"matplotlib.axis_1\">\r\n    <g id=\"xtick_1\">\r\n     <g id=\"line2d_1\">\r\n      <defs>\r\n       <path d=\"M 0 0 \r\nL 0 3.5 \r\n\" id=\"m378f7d38e7\" style=\"stroke:#000000;stroke-width:0.8;\"/>\r\n      </defs>\r\n      <g>\r\n       <use style=\"stroke:#000000;stroke-width:0.8;\" x=\"143.390625\" xlink:href=\"#m378f7d38e7\" y=\"224.64\"/>\r\n      </g>\r\n     </g>\r\n     <g id=\"text_1\">\r\n      <!-- CT -->\r\n      <g transform=\"translate(136.845313 239.238438)scale(0.1 -0.1)\">\r\n       <defs>\r\n        <path d=\"M 4122 4306 \r\nL 4122 3641 \r\nQ 3803 3938 3442 4084 \r\nQ 3081 4231 2675 4231 \r\nQ 1875 4231 1450 3742 \r\nQ 1025 3253 1025 2328 \r\nQ 1025 1406 1450 917 \r\nQ 1875 428 2675 428 \r\nQ 3081 428 3442 575 \r\nQ 3803 722 4122 1019 \r\nL 4122 359 \r\nQ 3791 134 3420 21 \r\nQ 3050 -91 2638 -91 \r\nQ 1578 -91 968 557 \r\nQ 359 1206 359 2328 \r\nQ 359 3453 968 4101 \r\nQ 1578 4750 2638 4750 \r\nQ 3056 4750 3426 4639 \r\nQ 3797 4528 4122 4306 \r\nz\r\n\" id=\"DejaVuSans-43\" transform=\"scale(0.015625)\"/>\r\n        <path d=\"M -19 4666 \r\nL 3928 4666 \r\nL 3928 4134 \r\nL 2272 4134 \r\nL 2272 0 \r\nL 1638 0 \r\nL 1638 4134 \r\nL -19 4134 \r\nL -19 4666 \r\nz\r\n\" id=\"DejaVuSans-54\" transform=\"scale(0.015625)\"/>\r\n       </defs>\r\n       <use xlink:href=\"#DejaVuSans-43\"/>\r\n       <use x=\"69.824219\" xlink:href=\"#DejaVuSans-54\"/>\r\n      </g>\r\n     </g>\r\n    </g>\r\n    <g id=\"xtick_2\">\r\n     <g id=\"line2d_2\">\r\n      <g>\r\n       <use style=\"stroke:#000000;stroke-width:0.8;\" x=\"310.790625\" xlink:href=\"#m378f7d38e7\" y=\"224.64\"/>\r\n      </g>\r\n     </g>\r\n     <g id=\"text_2\">\r\n      <!-- T -->\r\n      <g transform=\"translate(307.736719 239.238438)scale(0.1 -0.1)\">\r\n       <use xlink:href=\"#DejaVuSans-54\"/>\r\n      </g>\r\n     </g>\r\n    </g>\r\n    <g id=\"text_3\">\r\n     <!-- round_winner -->\r\n     <g transform=\"translate(193.128906 252.916562)scale(0.1 -0.1)\">\r\n      <defs>\r\n       <path d=\"M 2631 2963 \r\nQ 2534 3019 2420 3045 \r\nQ 2306 3072 2169 3072 \r\nQ 1681 3072 1420 2755 \r\nQ 1159 2438 1159 1844 \r\nL 1159 0 \r\nL 581 0 \r\nL 581 3500 \r\nL 1159 3500 \r\nL 1159 2956 \r\nQ 1341 3275 1631 3429 \r\nQ 1922 3584 2338 3584 \r\nQ 2397 3584 2469 3576 \r\nQ 2541 3569 2628 3553 \r\nL 2631 2963 \r\nz\r\n\" id=\"DejaVuSans-72\" transform=\"scale(0.015625)\"/>\r\n       <path d=\"M 1959 3097 \r\nQ 1497 3097 1228 2736 \r\nQ 959 2375 959 1747 \r\nQ 959 1119 1226 758 \r\nQ 1494 397 1959 397 \r\nQ 2419 397 2687 759 \r\nQ 2956 1122 2956 1747 \r\nQ 2956 2369 2687 2733 \r\nQ 2419 3097 1959 3097 \r\nz\r\nM 1959 3584 \r\nQ 2709 3584 3137 3096 \r\nQ 3566 2609 3566 1747 \r\nQ 3566 888 3137 398 \r\nQ 2709 -91 1959 -91 \r\nQ 1206 -91 779 398 \r\nQ 353 888 353 1747 \r\nQ 353 2609 779 3096 \r\nQ 1206 3584 1959 3584 \r\nz\r\n\" id=\"DejaVuSans-6f\" transform=\"scale(0.015625)\"/>\r\n       <path d=\"M 544 1381 \r\nL 544 3500 \r\nL 1119 3500 \r\nL 1119 1403 \r\nQ 1119 906 1312 657 \r\nQ 1506 409 1894 409 \r\nQ 2359 409 2629 706 \r\nQ 2900 1003 2900 1516 \r\nL 2900 3500 \r\nL 3475 3500 \r\nL 3475 0 \r\nL 2900 0 \r\nL 2900 538 \r\nQ 2691 219 2414 64 \r\nQ 2138 -91 1772 -91 \r\nQ 1169 -91 856 284 \r\nQ 544 659 544 1381 \r\nz\r\nM 1991 3584 \r\nL 1991 3584 \r\nz\r\n\" id=\"DejaVuSans-75\" transform=\"scale(0.015625)\"/>\r\n       <path d=\"M 3513 2113 \r\nL 3513 0 \r\nL 2938 0 \r\nL 2938 2094 \r\nQ 2938 2591 2744 2837 \r\nQ 2550 3084 2163 3084 \r\nQ 1697 3084 1428 2787 \r\nQ 1159 2491 1159 1978 \r\nL 1159 0 \r\nL 581 0 \r\nL 581 3500 \r\nL 1159 3500 \r\nL 1159 2956 \r\nQ 1366 3272 1645 3428 \r\nQ 1925 3584 2291 3584 \r\nQ 2894 3584 3203 3211 \r\nQ 3513 2838 3513 2113 \r\nz\r\n\" id=\"DejaVuSans-6e\" transform=\"scale(0.015625)\"/>\r\n       <path d=\"M 2906 2969 \r\nL 2906 4863 \r\nL 3481 4863 \r\nL 3481 0 \r\nL 2906 0 \r\nL 2906 525 \r\nQ 2725 213 2448 61 \r\nQ 2172 -91 1784 -91 \r\nQ 1150 -91 751 415 \r\nQ 353 922 353 1747 \r\nQ 353 2572 751 3078 \r\nQ 1150 3584 1784 3584 \r\nQ 2172 3584 2448 3432 \r\nQ 2725 3281 2906 2969 \r\nz\r\nM 947 1747 \r\nQ 947 1113 1208 752 \r\nQ 1469 391 1925 391 \r\nQ 2381 391 2643 752 \r\nQ 2906 1113 2906 1747 \r\nQ 2906 2381 2643 2742 \r\nQ 2381 3103 1925 3103 \r\nQ 1469 3103 1208 2742 \r\nQ 947 2381 947 1747 \r\nz\r\n\" id=\"DejaVuSans-64\" transform=\"scale(0.015625)\"/>\r\n       <path d=\"M 3263 -1063 \r\nL 3263 -1509 \r\nL -63 -1509 \r\nL -63 -1063 \r\nL 3263 -1063 \r\nz\r\n\" id=\"DejaVuSans-5f\" transform=\"scale(0.015625)\"/>\r\n       <path d=\"M 269 3500 \r\nL 844 3500 \r\nL 1563 769 \r\nL 2278 3500 \r\nL 2956 3500 \r\nL 3675 769 \r\nL 4391 3500 \r\nL 4966 3500 \r\nL 4050 0 \r\nL 3372 0 \r\nL 2619 2869 \r\nL 1863 0 \r\nL 1184 0 \r\nL 269 3500 \r\nz\r\n\" id=\"DejaVuSans-77\" transform=\"scale(0.015625)\"/>\r\n       <path d=\"M 603 3500 \r\nL 1178 3500 \r\nL 1178 0 \r\nL 603 0 \r\nL 603 3500 \r\nz\r\nM 603 4863 \r\nL 1178 4863 \r\nL 1178 4134 \r\nL 603 4134 \r\nL 603 4863 \r\nz\r\n\" id=\"DejaVuSans-69\" transform=\"scale(0.015625)\"/>\r\n       <path d=\"M 3597 1894 \r\nL 3597 1613 \r\nL 953 1613 \r\nQ 991 1019 1311 708 \r\nQ 1631 397 2203 397 \r\nQ 2534 397 2845 478 \r\nQ 3156 559 3463 722 \r\nL 3463 178 \r\nQ 3153 47 2828 -22 \r\nQ 2503 -91 2169 -91 \r\nQ 1331 -91 842 396 \r\nQ 353 884 353 1716 \r\nQ 353 2575 817 3079 \r\nQ 1281 3584 2069 3584 \r\nQ 2775 3584 3186 3129 \r\nQ 3597 2675 3597 1894 \r\nz\r\nM 3022 2063 \r\nQ 3016 2534 2758 2815 \r\nQ 2500 3097 2075 3097 \r\nQ 1594 3097 1305 2825 \r\nQ 1016 2553 972 2059 \r\nL 3022 2063 \r\nz\r\n\" id=\"DejaVuSans-65\" transform=\"scale(0.015625)\"/>\r\n      </defs>\r\n      <use xlink:href=\"#DejaVuSans-72\"/>\r\n      <use x=\"38.863281\" xlink:href=\"#DejaVuSans-6f\"/>\r\n      <use x=\"100.044922\" xlink:href=\"#DejaVuSans-75\"/>\r\n      <use x=\"163.423828\" xlink:href=\"#DejaVuSans-6e\"/>\r\n      <use x=\"226.802734\" xlink:href=\"#DejaVuSans-64\"/>\r\n      <use x=\"290.279297\" xlink:href=\"#DejaVuSans-5f\"/>\r\n      <use x=\"340.279297\" xlink:href=\"#DejaVuSans-77\"/>\r\n      <use x=\"422.066406\" xlink:href=\"#DejaVuSans-69\"/>\r\n      <use x=\"449.849609\" xlink:href=\"#DejaVuSans-6e\"/>\r\n      <use x=\"513.228516\" xlink:href=\"#DejaVuSans-6e\"/>\r\n      <use x=\"576.607422\" xlink:href=\"#DejaVuSans-65\"/>\r\n      <use x=\"638.130859\" xlink:href=\"#DejaVuSans-72\"/>\r\n     </g>\r\n    </g>\r\n   </g>\r\n   <g id=\"matplotlib.axis_2\">\r\n    <g id=\"ytick_1\">\r\n     <g id=\"line2d_3\">\r\n      <defs>\r\n       <path d=\"M 0 0 \r\nL -3.5 0 \r\n\" id=\"m84f560d783\" style=\"stroke:#000000;stroke-width:0.8;\"/>\r\n      </defs>\r\n      <g>\r\n       <use style=\"stroke:#000000;stroke-width:0.8;\" x=\"59.690625\" xlink:href=\"#m84f560d783\" y=\"224.64\"/>\r\n      </g>\r\n     </g>\r\n     <g id=\"text_4\">\r\n      <!-- 0 -->\r\n      <g transform=\"translate(46.328125 228.439219)scale(0.1 -0.1)\">\r\n       <defs>\r\n        <path d=\"M 2034 4250 \r\nQ 1547 4250 1301 3770 \r\nQ 1056 3291 1056 2328 \r\nQ 1056 1369 1301 889 \r\nQ 1547 409 2034 409 \r\nQ 2525 409 2770 889 \r\nQ 3016 1369 3016 2328 \r\nQ 3016 3291 2770 3770 \r\nQ 2525 4250 2034 4250 \r\nz\r\nM 2034 4750 \r\nQ 2819 4750 3233 4129 \r\nQ 3647 3509 3647 2328 \r\nQ 3647 1150 3233 529 \r\nQ 2819 -91 2034 -91 \r\nQ 1250 -91 836 529 \r\nQ 422 1150 422 2328 \r\nQ 422 3509 836 4129 \r\nQ 1250 4750 2034 4750 \r\nz\r\n\" id=\"DejaVuSans-30\" transform=\"scale(0.015625)\"/>\r\n       </defs>\r\n       <use xlink:href=\"#DejaVuSans-30\"/>\r\n      </g>\r\n     </g>\r\n    </g>\r\n    <g id=\"ytick_2\">\r\n     <g id=\"line2d_4\">\r\n      <g>\r\n       <use style=\"stroke:#000000;stroke-width:0.8;\" x=\"59.690625\" xlink:href=\"#m84f560d783\" y=\"191.456378\"/>\r\n      </g>\r\n     </g>\r\n     <g id=\"text_5\">\r\n      <!-- 10000 -->\r\n      <g transform=\"translate(20.878125 195.255596)scale(0.1 -0.1)\">\r\n       <defs>\r\n        <path d=\"M 794 531 \r\nL 1825 531 \r\nL 1825 4091 \r\nL 703 3866 \r\nL 703 4441 \r\nL 1819 4666 \r\nL 2450 4666 \r\nL 2450 531 \r\nL 3481 531 \r\nL 3481 0 \r\nL 794 0 \r\nL 794 531 \r\nz\r\n\" id=\"DejaVuSans-31\" transform=\"scale(0.015625)\"/>\r\n       </defs>\r\n       <use xlink:href=\"#DejaVuSans-31\"/>\r\n       <use x=\"63.623047\" xlink:href=\"#DejaVuSans-30\"/>\r\n       <use x=\"127.246094\" xlink:href=\"#DejaVuSans-30\"/>\r\n       <use x=\"190.869141\" xlink:href=\"#DejaVuSans-30\"/>\r\n       <use x=\"254.492188\" xlink:href=\"#DejaVuSans-30\"/>\r\n      </g>\r\n     </g>\r\n    </g>\r\n    <g id=\"ytick_3\">\r\n     <g id=\"line2d_5\">\r\n      <g>\r\n       <use style=\"stroke:#000000;stroke-width:0.8;\" x=\"59.690625\" xlink:href=\"#m84f560d783\" y=\"158.272755\"/>\r\n      </g>\r\n     </g>\r\n     <g id=\"text_6\">\r\n      <!-- 20000 -->\r\n      <g transform=\"translate(20.878125 162.071974)scale(0.1 -0.1)\">\r\n       <defs>\r\n        <path d=\"M 1228 531 \r\nL 3431 531 \r\nL 3431 0 \r\nL 469 0 \r\nL 469 531 \r\nQ 828 903 1448 1529 \r\nQ 2069 2156 2228 2338 \r\nQ 2531 2678 2651 2914 \r\nQ 2772 3150 2772 3378 \r\nQ 2772 3750 2511 3984 \r\nQ 2250 4219 1831 4219 \r\nQ 1534 4219 1204 4116 \r\nQ 875 4013 500 3803 \r\nL 500 4441 \r\nQ 881 4594 1212 4672 \r\nQ 1544 4750 1819 4750 \r\nQ 2544 4750 2975 4387 \r\nQ 3406 4025 3406 3419 \r\nQ 3406 3131 3298 2873 \r\nQ 3191 2616 2906 2266 \r\nQ 2828 2175 2409 1742 \r\nQ 1991 1309 1228 531 \r\nz\r\n\" id=\"DejaVuSans-32\" transform=\"scale(0.015625)\"/>\r\n       </defs>\r\n       <use xlink:href=\"#DejaVuSans-32\"/>\r\n       <use x=\"63.623047\" xlink:href=\"#DejaVuSans-30\"/>\r\n       <use x=\"127.246094\" xlink:href=\"#DejaVuSans-30\"/>\r\n       <use x=\"190.869141\" xlink:href=\"#DejaVuSans-30\"/>\r\n       <use x=\"254.492188\" xlink:href=\"#DejaVuSans-30\"/>\r\n      </g>\r\n     </g>\r\n    </g>\r\n    <g id=\"ytick_4\">\r\n     <g id=\"line2d_6\">\r\n      <g>\r\n       <use style=\"stroke:#000000;stroke-width:0.8;\" x=\"59.690625\" xlink:href=\"#m84f560d783\" y=\"125.089133\"/>\r\n      </g>\r\n     </g>\r\n     <g id=\"text_7\">\r\n      <!-- 30000 -->\r\n      <g transform=\"translate(20.878125 128.888351)scale(0.1 -0.1)\">\r\n       <defs>\r\n        <path d=\"M 2597 2516 \r\nQ 3050 2419 3304 2112 \r\nQ 3559 1806 3559 1356 \r\nQ 3559 666 3084 287 \r\nQ 2609 -91 1734 -91 \r\nQ 1441 -91 1130 -33 \r\nQ 819 25 488 141 \r\nL 488 750 \r\nQ 750 597 1062 519 \r\nQ 1375 441 1716 441 \r\nQ 2309 441 2620 675 \r\nQ 2931 909 2931 1356 \r\nQ 2931 1769 2642 2001 \r\nQ 2353 2234 1838 2234 \r\nL 1294 2234 \r\nL 1294 2753 \r\nL 1863 2753 \r\nQ 2328 2753 2575 2939 \r\nQ 2822 3125 2822 3475 \r\nQ 2822 3834 2567 4026 \r\nQ 2313 4219 1838 4219 \r\nQ 1578 4219 1281 4162 \r\nQ 984 4106 628 3988 \r\nL 628 4550 \r\nQ 988 4650 1302 4700 \r\nQ 1616 4750 1894 4750 \r\nQ 2613 4750 3031 4423 \r\nQ 3450 4097 3450 3541 \r\nQ 3450 3153 3228 2886 \r\nQ 3006 2619 2597 2516 \r\nz\r\n\" id=\"DejaVuSans-33\" transform=\"scale(0.015625)\"/>\r\n       </defs>\r\n       <use xlink:href=\"#DejaVuSans-33\"/>\r\n       <use x=\"63.623047\" xlink:href=\"#DejaVuSans-30\"/>\r\n       <use x=\"127.246094\" xlink:href=\"#DejaVuSans-30\"/>\r\n       <use x=\"190.869141\" xlink:href=\"#DejaVuSans-30\"/>\r\n       <use x=\"254.492188\" xlink:href=\"#DejaVuSans-30\"/>\r\n      </g>\r\n     </g>\r\n    </g>\r\n    <g id=\"ytick_5\">\r\n     <g id=\"line2d_7\">\r\n      <g>\r\n       <use style=\"stroke:#000000;stroke-width:0.8;\" x=\"59.690625\" xlink:href=\"#m84f560d783\" y=\"91.90551\"/>\r\n      </g>\r\n     </g>\r\n     <g id=\"text_8\">\r\n      <!-- 40000 -->\r\n      <g transform=\"translate(20.878125 95.704729)scale(0.1 -0.1)\">\r\n       <defs>\r\n        <path d=\"M 2419 4116 \r\nL 825 1625 \r\nL 2419 1625 \r\nL 2419 4116 \r\nz\r\nM 2253 4666 \r\nL 3047 4666 \r\nL 3047 1625 \r\nL 3713 1625 \r\nL 3713 1100 \r\nL 3047 1100 \r\nL 3047 0 \r\nL 2419 0 \r\nL 2419 1100 \r\nL 313 1100 \r\nL 313 1709 \r\nL 2253 4666 \r\nz\r\n\" id=\"DejaVuSans-34\" transform=\"scale(0.015625)\"/>\r\n       </defs>\r\n       <use xlink:href=\"#DejaVuSans-34\"/>\r\n       <use x=\"63.623047\" xlink:href=\"#DejaVuSans-30\"/>\r\n       <use x=\"127.246094\" xlink:href=\"#DejaVuSans-30\"/>\r\n       <use x=\"190.869141\" xlink:href=\"#DejaVuSans-30\"/>\r\n       <use x=\"254.492188\" xlink:href=\"#DejaVuSans-30\"/>\r\n      </g>\r\n     </g>\r\n    </g>\r\n    <g id=\"ytick_6\">\r\n     <g id=\"line2d_8\">\r\n      <g>\r\n       <use style=\"stroke:#000000;stroke-width:0.8;\" x=\"59.690625\" xlink:href=\"#m84f560d783\" y=\"58.721888\"/>\r\n      </g>\r\n     </g>\r\n     <g id=\"text_9\">\r\n      <!-- 50000 -->\r\n      <g transform=\"translate(20.878125 62.521106)scale(0.1 -0.1)\">\r\n       <defs>\r\n        <path d=\"M 691 4666 \r\nL 3169 4666 \r\nL 3169 4134 \r\nL 1269 4134 \r\nL 1269 2991 \r\nQ 1406 3038 1543 3061 \r\nQ 1681 3084 1819 3084 \r\nQ 2600 3084 3056 2656 \r\nQ 3513 2228 3513 1497 \r\nQ 3513 744 3044 326 \r\nQ 2575 -91 1722 -91 \r\nQ 1428 -91 1123 -41 \r\nQ 819 9 494 109 \r\nL 494 744 \r\nQ 775 591 1075 516 \r\nQ 1375 441 1709 441 \r\nQ 2250 441 2565 725 \r\nQ 2881 1009 2881 1497 \r\nQ 2881 1984 2565 2268 \r\nQ 2250 2553 1709 2553 \r\nQ 1456 2553 1204 2497 \r\nQ 953 2441 691 2322 \r\nL 691 4666 \r\nz\r\n\" id=\"DejaVuSans-35\" transform=\"scale(0.015625)\"/>\r\n       </defs>\r\n       <use xlink:href=\"#DejaVuSans-35\"/>\r\n       <use x=\"63.623047\" xlink:href=\"#DejaVuSans-30\"/>\r\n       <use x=\"127.246094\" xlink:href=\"#DejaVuSans-30\"/>\r\n       <use x=\"190.869141\" xlink:href=\"#DejaVuSans-30\"/>\r\n       <use x=\"254.492188\" xlink:href=\"#DejaVuSans-30\"/>\r\n      </g>\r\n     </g>\r\n    </g>\r\n    <g id=\"ytick_7\">\r\n     <g id=\"line2d_9\">\r\n      <g>\r\n       <use style=\"stroke:#000000;stroke-width:0.8;\" x=\"59.690625\" xlink:href=\"#m84f560d783\" y=\"25.538265\"/>\r\n      </g>\r\n     </g>\r\n     <g id=\"text_10\">\r\n      <!-- 60000 -->\r\n      <g transform=\"translate(20.878125 29.337484)scale(0.1 -0.1)\">\r\n       <defs>\r\n        <path d=\"M 2113 2584 \r\nQ 1688 2584 1439 2293 \r\nQ 1191 2003 1191 1497 \r\nQ 1191 994 1439 701 \r\nQ 1688 409 2113 409 \r\nQ 2538 409 2786 701 \r\nQ 3034 994 3034 1497 \r\nQ 3034 2003 2786 2293 \r\nQ 2538 2584 2113 2584 \r\nz\r\nM 3366 4563 \r\nL 3366 3988 \r\nQ 3128 4100 2886 4159 \r\nQ 2644 4219 2406 4219 \r\nQ 1781 4219 1451 3797 \r\nQ 1122 3375 1075 2522 \r\nQ 1259 2794 1537 2939 \r\nQ 1816 3084 2150 3084 \r\nQ 2853 3084 3261 2657 \r\nQ 3669 2231 3669 1497 \r\nQ 3669 778 3244 343 \r\nQ 2819 -91 2113 -91 \r\nQ 1303 -91 875 529 \r\nQ 447 1150 447 2328 \r\nQ 447 3434 972 4092 \r\nQ 1497 4750 2381 4750 \r\nQ 2619 4750 2861 4703 \r\nQ 3103 4656 3366 4563 \r\nz\r\n\" id=\"DejaVuSans-36\" transform=\"scale(0.015625)\"/>\r\n       </defs>\r\n       <use xlink:href=\"#DejaVuSans-36\"/>\r\n       <use x=\"63.623047\" xlink:href=\"#DejaVuSans-30\"/>\r\n       <use x=\"127.246094\" xlink:href=\"#DejaVuSans-30\"/>\r\n       <use x=\"190.869141\" xlink:href=\"#DejaVuSans-30\"/>\r\n       <use x=\"254.492188\" xlink:href=\"#DejaVuSans-30\"/>\r\n      </g>\r\n     </g>\r\n    </g>\r\n    <g id=\"text_11\">\r\n     <!-- count -->\r\n     <g transform=\"translate(14.798438 130.02625)rotate(-90)scale(0.1 -0.1)\">\r\n      <defs>\r\n       <path d=\"M 3122 3366 \r\nL 3122 2828 \r\nQ 2878 2963 2633 3030 \r\nQ 2388 3097 2138 3097 \r\nQ 1578 3097 1268 2742 \r\nQ 959 2388 959 1747 \r\nQ 959 1106 1268 751 \r\nQ 1578 397 2138 397 \r\nQ 2388 397 2633 464 \r\nQ 2878 531 3122 666 \r\nL 3122 134 \r\nQ 2881 22 2623 -34 \r\nQ 2366 -91 2075 -91 \r\nQ 1284 -91 818 406 \r\nQ 353 903 353 1747 \r\nQ 353 2603 823 3093 \r\nQ 1294 3584 2113 3584 \r\nQ 2378 3584 2631 3529 \r\nQ 2884 3475 3122 3366 \r\nz\r\n\" id=\"DejaVuSans-63\" transform=\"scale(0.015625)\"/>\r\n       <path d=\"M 1172 4494 \r\nL 1172 3500 \r\nL 2356 3500 \r\nL 2356 3053 \r\nL 1172 3053 \r\nL 1172 1153 \r\nQ 1172 725 1289 603 \r\nQ 1406 481 1766 481 \r\nL 2356 481 \r\nL 2356 0 \r\nL 1766 0 \r\nQ 1100 0 847 248 \r\nQ 594 497 594 1153 \r\nL 594 3053 \r\nL 172 3053 \r\nL 172 3500 \r\nL 594 3500 \r\nL 594 4494 \r\nL 1172 4494 \r\nz\r\n\" id=\"DejaVuSans-74\" transform=\"scale(0.015625)\"/>\r\n      </defs>\r\n      <use xlink:href=\"#DejaVuSans-63\"/>\r\n      <use x=\"54.980469\" xlink:href=\"#DejaVuSans-6f\"/>\r\n      <use x=\"116.162109\" xlink:href=\"#DejaVuSans-75\"/>\r\n      <use x=\"179.541016\" xlink:href=\"#DejaVuSans-6e\"/>\r\n      <use x=\"242.919922\" xlink:href=\"#DejaVuSans-74\"/>\r\n     </g>\r\n    </g>\r\n   </g>\r\n   <g id=\"patch_5\">\r\n    <path d=\"M 59.690625 224.64 \r\nL 59.690625 7.2 \r\n\" style=\"fill:none;stroke:#000000;stroke-linecap:square;stroke-linejoin:miter;stroke-width:0.8;\"/>\r\n   </g>\r\n   <g id=\"patch_6\">\r\n    <path d=\"M 394.490625 224.64 \r\nL 394.490625 7.2 \r\n\" style=\"fill:none;stroke:#000000;stroke-linecap:square;stroke-linejoin:miter;stroke-width:0.8;\"/>\r\n   </g>\r\n   <g id=\"patch_7\">\r\n    <path d=\"M 59.690625 224.64 \r\nL 394.490625 224.64 \r\n\" style=\"fill:none;stroke:#000000;stroke-linecap:square;stroke-linejoin:miter;stroke-width:0.8;\"/>\r\n   </g>\r\n   <g id=\"patch_8\">\r\n    <path d=\"M 59.690625 7.2 \r\nL 394.490625 7.2 \r\n\" style=\"fill:none;stroke:#000000;stroke-linecap:square;stroke-linejoin:miter;stroke-width:0.8;\"/>\r\n   </g>\r\n  </g>\r\n </g>\r\n <defs>\r\n  <clipPath id=\"pda532af31e\">\r\n   <rect height=\"217.44\" width=\"334.8\" x=\"59.690625\" y=\"7.2\"/>\r\n  </clipPath>\r\n </defs>\r\n</svg>\r\n",
      "image/png": "[encoded data removed]"
     },
     "metadata": {
      "needs_background": "light"
     }
    }
   ],
   "source": [
    "sns.countplot(data['round_winner'])"
   ]
  },
  {
   "cell_type": "code",
   "execution_count": 35,
   "metadata": {},
   "outputs": [],
   "source": [
    "encoder = LabelEncoder()\n",
    "data.round_winner = encoder.fit_transform(data.round_winner)\n",
    "data.bomb_planted = encoder.fit_transform(data.bomb_planted)\n",
    "data.map = encoder.fit_transform(data.map)"
   ]
  },
  {
   "cell_type": "code",
   "execution_count": 36,
   "metadata": {},
   "outputs": [],
   "source": [
    "features = data.drop(\"round_winner\", axis=1)\n",
    "target = data.round_winner"
   ]
  },
  {
   "cell_type": "code",
   "execution_count": 37,
   "metadata": {},
   "outputs": [],
   "source": [
    "X_train, X_test, y_train, y_test = train_test_split(features, target, random_state=42)"
   ]
  },
  {
   "cell_type": "code",
   "execution_count": 24,
   "metadata": {},
   "outputs": [
    {
     "output_type": "stream",
     "name": "stdout",
     "text": [
      "Training score: 0.346\nR2 score: 0.345\n"
     ]
    }
   ],
   "source": [
    "lr = LinearRegression()\n",
    "lr.fit(X_train, y_train)\n",
    "\n",
    "lr_pred = lr.predict(X_test)\n",
    "\n",
    "print(\"Training score: {:.3f}\".format(lr.score(X_train, y_train)))\n",
    "print(\"R2 score: {:.3f}\".format(r2_score(y_test, lr_pred)))"
   ]
  },
  {
   "cell_type": "code",
   "execution_count": 45,
   "metadata": {},
   "outputs": [
    {
     "output_type": "stream",
     "name": "stdout",
     "text": [
      "Training score: 0.745\nTest score: 0.744\n"
     ]
    }
   ],
   "source": [
    "log_reg = LogisticRegression(max_iter=1000000)\n",
    "log_reg.fit(X_train, y_train)\n",
    "\n",
    "log_reg_pred = log_reg.predict(X_test)\n",
    "\n",
    "print(\"Training score: {:.3f}\".format(log_reg.score(X_train, y_train)))\n",
    "print(\"Test score: {:.3f}\".format(accuracy_score(y_test, log_reg_pred)))"
   ]
  },
  {
   "cell_type": "code",
   "execution_count": null,
   "metadata": {},
   "outputs": [],
   "source": []
  }
 ]
}