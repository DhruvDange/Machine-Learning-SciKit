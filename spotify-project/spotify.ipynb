{
 "metadata": {
  "language_info": {
   "codemirror_mode": {
    "name": "ipython",
    "version": 3
   },
   "file_extension": ".py",
   "mimetype": "text/x-python",
   "name": "python",
   "nbconvert_exporter": "python",
   "pygments_lexer": "ipython3",
   "version": "3.9.5"
  },
  "orig_nbformat": 4,
  "kernelspec": {
   "name": "python3",
   "display_name": "Python 3.9.5 64-bit ('Machine-Learning': venv)"
  },
  "interpreter": {
   "hash": "be586389b9b53da8b3339665700485502f47901d08bec1fe049525e0a8d6c925"
  }
 },
 "nbformat": 4,
 "nbformat_minor": 2,
 "cells": [
  {
   "cell_type": "code",
   "execution_count": 1,
   "metadata": {},
   "outputs": [],
   "source": [
    "import spotipy\n",
    "from spotipy.oauth2 import SpotifyClientCredentials"
   ]
  },
  {
   "cell_type": "code",
   "execution_count": 2,
   "metadata": {},
   "outputs": [],
   "source": [
    "led_zep_uri = \"spotify:artist:36QJpDe2go2KgaRleHCDTp\"\n",
    "spotify = spotipy.Spotify(client_credentials_manager=SpotifyClientCredentials())"
   ]
  },
  {
   "cell_type": "code",
   "execution_count": 3,
   "metadata": {},
   "outputs": [],
   "source": [
    "results = spotify.artist_top_tracks(led_zep_uri)"
   ]
  },
  {
   "cell_type": "code",
   "execution_count": 9,
   "metadata": {},
   "outputs": [
    {
     "output_type": "stream",
     "name": "stdout",
     "text": [
      "track    : Stairway to Heaven - Remaster\naudio    : https://p.scdn.co/mp3-preview/8226164717312bc411f8635580562d67e191a754?cid=f5de6d932e734c108d504646c0e30f88\ncover art: https://i.scdn.co/image/ab67616d0000b273c8a11e48c91a982d086afc69\n\ntrack    : Immigrant Song - Remaster\naudio    : https://p.scdn.co/mp3-preview/8455599677a13017978dcd3f4b210937f0a16bcb?cid=f5de6d932e734c108d504646c0e30f88\ncover art: https://i.scdn.co/image/ab67616d0000b27390a50cfe99a4c19ff3cbfbdb\n\ntrack    : Whole Lotta Love - 1990 Remaster\naudio    : https://p.scdn.co/mp3-preview/ce11b19a4d2de9976d7626df0717d0073863909c?cid=f5de6d932e734c108d504646c0e30f88\ncover art: https://i.scdn.co/image/ab67616d0000b273fc4f17340773c6c3579fea0d\n\ntrack    : Black Dog - Remaster\naudio    : https://p.scdn.co/mp3-preview/9b76619fd9d563a48d38cc90ca00c3008327b52e?cid=f5de6d932e734c108d504646c0e30f88\ncover art: https://i.scdn.co/image/ab67616d0000b273c8a11e48c91a982d086afc69\n\ntrack    : Ramble On - 1990 Remaster\naudio    : https://p.scdn.co/mp3-preview/83383aceb01ea27b0bffdedfaebe55e29b33aca2?cid=f5de6d932e734c108d504646c0e30f88\ncover art: https://i.scdn.co/image/ab67616d0000b273fc4f17340773c6c3579fea0d\n\ntrack    : Kashmir - Remaster\naudio    : https://p.scdn.co/mp3-preview/f3ca68c9ceaa3435d5bd55c0199ba0b09b916cce?cid=f5de6d932e734c108d504646c0e30f88\ncover art: https://i.scdn.co/image/ab67616d0000b273765b0617b572bdd1dbdc7d8e\n\ntrack    : Rock and Roll - Remaster\naudio    : https://p.scdn.co/mp3-preview/e7ea8a13f7caf6942c5447e9cd96aac2a076d85a?cid=f5de6d932e734c108d504646c0e30f88\ncover art: https://i.scdn.co/image/ab67616d0000b273c8a11e48c91a982d086afc69\n\ntrack    : Good Times Bad Times - 1993 Remaster\naudio    : https://p.scdn.co/mp3-preview/c1f024eb57b569b926c8e68cab0a6056dc7d9654?cid=f5de6d932e734c108d504646c0e30f88\ncover art: https://i.scdn.co/image/ab67616d0000b2736f2f499c1df1f210c9b34b32\n\ntrack    : Going to California - Remaster\naudio    : https://p.scdn.co/mp3-preview/4bdae56c6a9f7a8ec42b753cb7bea2c77ec68f1e?cid=f5de6d932e734c108d504646c0e30f88\ncover art: https://i.scdn.co/image/ab67616d0000b273c8a11e48c91a982d086afc69\n\ntrack    : D'yer Mak'er - Remaster\naudio    : https://p.scdn.co/mp3-preview/863a26744fa4389f1dc61557133df3453be82d7b?cid=f5de6d932e734c108d504646c0e30f88\ncover art: https://i.scdn.co/image/ab67616d0000b2731816adce1d49e35d3ce9a1d1\n\n"
     ]
    }
   ],
   "source": [
    "for track in results[\"tracks\"][:10]:\n",
    "    print('track    : ' + track['name'])\n",
    "    print('audio    : ' + track['preview_url'])\n",
    "    print('cover art: ' + track['album']['images'][0]['url'])\n",
    "    print()"
   ]
  },
  {
   "cell_type": "code",
   "execution_count": null,
   "metadata": {},
   "outputs": [],
   "source": []
  }
 ]
}